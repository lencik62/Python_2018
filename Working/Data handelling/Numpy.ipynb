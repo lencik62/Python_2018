{
 "cells": [
  {
   "cell_type": "code",
   "execution_count": 73,
   "metadata": {},
   "outputs": [],
   "source": [
    "%config IPCompleter.greedy=True"
   ]
  },
  {
   "cell_type": "code",
   "execution_count": 72,
   "metadata": {},
   "outputs": [],
   "source": [
    "import numpy as np"
   ]
  },
  {
   "cell_type": "markdown",
   "metadata": {},
   "source": [
    "Array gen"
   ]
  },
  {
   "cell_type": "code",
   "execution_count": 3,
   "metadata": {},
   "outputs": [
    {
     "name": "stdout",
     "output_type": "stream",
     "text": [
      "[1 2 3 4]\n"
     ]
    }
   ],
   "source": [
    "\n",
    "List=[1,2,3,4,]\n",
    "a=np.array(List)\n",
    "print(a)"
   ]
  },
  {
   "cell_type": "code",
   "execution_count": 4,
   "metadata": {},
   "outputs": [
    {
     "data": {
      "text/plain": [
       "array([[1, 2],\n",
       "       [3, 4]])"
      ]
     },
     "execution_count": 4,
     "metadata": {},
     "output_type": "execute_result"
    }
   ],
   "source": [
    "\n",
    "a.reshape(2,2)# note #*# must equal len(array)\n"
   ]
  },
  {
   "cell_type": "code",
   "execution_count": 14,
   "metadata": {},
   "outputs": [
    {
     "name": "stdout",
     "output_type": "stream",
     "text": [
      "[  0   1   2   3   4   5   6   7   8   9  10  11  12  13  14  15  16  17\n",
      "  18  19  20  21  22  23  24  25  26  27  28  29  30  31  32  33  34  35\n",
      "  36  37  38  39  40  41  42  43  44  45  46  47  48  49  50  51  52  53\n",
      "  54  55  56  57  58  59  60  61  62  63  64  65  66  67  68  69  70  71\n",
      "  72  73  74  75  76  77  78  79  80  81  82  83  84  85  86  87  88  89\n",
      "  90  91  92  93  94  95  96  97  98  99 100 101 102 103 104 105 106 107\n",
      " 108 109 110 111 112 113 114 115 116 117 118 119 120 121 122 123 124 125\n",
      " 126 127 128 129 130 131 132 133 134 135 136 137 138 139 140 141 142 143\n",
      " 144 145 146 147 148 149 150 151 152 153 154 155 156 157 158 159 160 161\n",
      " 162 163 164 165 166 167 168 169 170 171 172 173 174 175 176 177 178 179\n",
      " 180 181 182 183 184 185 186 187 188 189 190 191 192 193 194 195 196 197\n",
      " 198 199 200 201 202 203 204 205 206 207 208 209 210 211 212 213 214 215\n",
      " 216 217 218 219 220 221 222 223 224 225 226 227 228 229 230 231 232 233\n",
      " 234 235 236 237 238 239 240 241 242 243 244 245 246 247 248 249]\n"
     ]
    }
   ],
   "source": [
    "\n",
    "a=np.arange(250)\n",
    "print(a)\n",
    "\n"
   ]
  },
  {
   "cell_type": "code",
   "execution_count": 15,
   "metadata": {},
   "outputs": [
    {
     "name": "stdout",
     "output_type": "stream",
     "text": [
      "[[[  0   1   2   3   4   5   6   7   8   9]\n",
      "  [ 10  11  12  13  14  15  16  17  18  19]\n",
      "  [ 20  21  22  23  24  25  26  27  28  29]\n",
      "  [ 30  31  32  33  34  35  36  37  38  39]\n",
      "  [ 40  41  42  43  44  45  46  47  48  49]]\n",
      "\n",
      " [[ 50  51  52  53  54  55  56  57  58  59]\n",
      "  [ 60  61  62  63  64  65  66  67  68  69]\n",
      "  [ 70  71  72  73  74  75  76  77  78  79]\n",
      "  [ 80  81  82  83  84  85  86  87  88  89]\n",
      "  [ 90  91  92  93  94  95  96  97  98  99]]\n",
      "\n",
      " [[100 101 102 103 104 105 106 107 108 109]\n",
      "  [110 111 112 113 114 115 116 117 118 119]\n",
      "  [120 121 122 123 124 125 126 127 128 129]\n",
      "  [130 131 132 133 134 135 136 137 138 139]\n",
      "  [140 141 142 143 144 145 146 147 148 149]]\n",
      "\n",
      " [[150 151 152 153 154 155 156 157 158 159]\n",
      "  [160 161 162 163 164 165 166 167 168 169]\n",
      "  [170 171 172 173 174 175 176 177 178 179]\n",
      "  [180 181 182 183 184 185 186 187 188 189]\n",
      "  [190 191 192 193 194 195 196 197 198 199]]\n",
      "\n",
      " [[200 201 202 203 204 205 206 207 208 209]\n",
      "  [210 211 212 213 214 215 216 217 218 219]\n",
      "  [220 221 222 223 224 225 226 227 228 229]\n",
      "  [230 231 232 233 234 235 236 237 238 239]\n",
      "  [240 241 242 243 244 245 246 247 248 249]]]\n"
     ]
    }
   ],
   "source": [
    "\n",
    "print(a.reshape(5,5,10))\n"
   ]
  },
  {
   "cell_type": "code",
   "execution_count": 16,
   "metadata": {},
   "outputs": [
    {
     "name": "stdout",
     "output_type": "stream",
     "text": [
      "[0 0 0 0 0 0 0 0 0 0]\n"
     ]
    }
   ],
   "source": [
    "\n",
    "print(np.zeros(10,dtype=np.int))"
   ]
  },
  {
   "cell_type": "code",
   "execution_count": 6,
   "metadata": {},
   "outputs": [
    {
     "name": "stdout",
     "output_type": "stream",
     "text": [
      "[10. 12. 14. 16. 18.]\n"
     ]
    }
   ],
   "source": [
    "\n",
    "x=np.linspace(10,20,5,endpoint=False)# include endpoint or not\n",
    "print(x)\n"
   ]
  },
  {
   "cell_type": "code",
   "execution_count": 8,
   "metadata": {},
   "outputs": [
    {
     "name": "stdout",
     "output_type": "stream",
     "text": [
      "[ 10.          10.48113134  10.98541142  11.51395399  12.06792641\n",
      "  12.64855217  13.25711366  13.89495494  14.56348478  15.26417967\n",
      "  15.9985872   16.76832937  17.57510625  18.42069969  19.30697729\n",
      "  20.23589648  21.20950888  22.22996483  23.29951811  24.42053095\n",
      "  25.59547923  26.82695795  28.11768698  29.47051703  30.88843596\n",
      "  32.37457543  33.93221772  35.56480306  37.2759372   39.06939937\n",
      "  40.94915062  42.9193426   44.98432669  47.14866363  49.41713361\n",
      "  51.79474679  54.28675439  56.89866029  59.63623317  62.50551925\n",
      "  65.51285569  68.6648845   71.9685673   75.43120063  79.06043211\n",
      "  82.86427729  86.85113738  91.0298178   95.40954763 100.        ]\n"
     ]
    }
   ],
   "source": [
    "x=np.logspace(1.0,2.0, num=50,base=10.0)\n",
    "print(x)\n"
   ]
  },
  {
   "cell_type": "code",
   "execution_count": 9,
   "metadata": {},
   "outputs": [
    {
     "name": "stdout",
     "output_type": "stream",
     "text": [
      "[0 1 2 3 4 5 6 7 8 9]\n",
      "[2 4 6]\n",
      "[2 4 6]\n",
      "[2 5 8]\n"
     ]
    }
   ],
   "source": [
    "#indexing and spiceing\n",
    "\n",
    "a=np.arange(10)\n",
    "print(a)\n",
    "s=slice(2,7,2)\n",
    "\n",
    "print(a[s])\n",
    "print(a[2:7:2])\n",
    "print(a[2::3])\n"
   ]
  },
  {
   "cell_type": "code",
   "execution_count": 24,
   "metadata": {},
   "outputs": [
    {
     "name": "stdout",
     "output_type": "stream",
     "text": [
      "[ 10  40  90 160]\n",
      "[ 5 10 15 20]\n",
      "[1, 2, 3, 4, 1, 2, 3, 4] [1, 2, 3, 4, 5]\n"
     ]
    }
   ],
   "source": [
    "\n",
    "tt=np.array([1,2,3,4])\n",
    "pp=np.array([10,20,30,40])\n",
    "\n",
    "print (tt*pp)\n",
    "print (tt*5)\n",
    "print([1,2,3,4]*2, [1,2,3,4]+[5])"
   ]
  },
  {
   "cell_type": "markdown",
   "metadata": {},
   "source": [
    "numpy does element wise operations vs a python list that just duplicates. therefore you can add, square root... but you have to use the np equivlent "
   ]
  },
  {
   "cell_type": "code",
   "execution_count": 10,
   "metadata": {},
   "outputs": [
    {
     "name": "stdout",
     "output_type": "stream",
     "text": [
      "[[ 0  2  4]\n",
      " [ 3  5  7]\n",
      " [ 6  8 10]]\n"
     ]
    }
   ],
   "source": [
    "\n",
    "a= np.arange(9).reshape(3,3)\n",
    "b=np.arange(3)\n",
    "print(a+b)\n"
   ]
  },
  {
   "cell_type": "code",
   "execution_count": 71,
   "metadata": {},
   "outputs": [
    {
     "name": "stdout",
     "output_type": "stream",
     "text": [
      "[[[6 6 6 8 4]\n",
      "  [9 5 1 6 8]\n",
      "  [6 8 3 1 1]\n",
      "  [6 7 1 7 2]\n",
      "  [5 2 5 3 1]]\n",
      "\n",
      " [[6 6 2 2 4]\n",
      "  [9 3 6 7 4]\n",
      "  [7 9 1 8 6]\n",
      "  [6 7 8 5 8]\n",
      "  [2 8 8 6 7]]]\n",
      "[[0.30736518 0.49420302 0.41846386 0.74777747 0.62899753 0.8402317\n",
      "  0.92794003 0.97609448 0.89437185 0.12272922]\n",
      " [0.85278487 0.9273299  0.67601655 0.35376051 0.17833769 0.33116591\n",
      "  0.11146638 0.69114107 0.39730606 0.87135525]\n",
      " [0.96226047 0.27804647 0.84119257 0.55566461 0.80789584 0.85192167\n",
      "  0.66038181 0.58910861 0.34217128 0.73782117]\n",
      " [0.01769422 0.74709074 0.17327865 0.56710241 0.3137112  0.92567226\n",
      "  0.551208   0.72908339 0.8969986  0.35931462]\n",
      " [0.45216417 0.40762156 0.69510455 0.02923619 0.96140432 0.64380303\n",
      "  0.76247771 0.46064341 0.13602602 0.5031018 ]\n",
      " [0.07194317 0.86306312 0.96842167 0.78176718 0.6458644  0.62193746\n",
      "  0.24954313 0.97235522 0.4883044  0.12706028]\n",
      " [0.24104183 0.56150486 0.74373121 0.82471462 0.5073391  0.38715685\n",
      "  0.18909669 0.04549159 0.65518022 0.81092934]\n",
      " [0.84598834 0.90914765 0.05502278 0.82803583 0.00887928 0.73595164\n",
      "  0.4942092  0.17025426 0.79369564 0.83670574]\n",
      " [0.17720375 0.67880532 0.01305195 0.97370865 0.1665873  0.90614539\n",
      "  0.74642055 0.49352996 0.66364026 0.56468678]\n",
      " [0.71935983 0.48099569 0.64003549 0.2745141  0.78233581 0.35052015\n",
      "  0.67380926 0.4907255  0.40488187 0.84634398]]\n",
      "[[-0.76257181 -0.0035478  -0.6122683  -0.95056545 -0.55814258  1.03430418\n",
      "  -1.53944884  0.35565232 -0.21202771  1.39363501]\n",
      " [-1.45620076  0.82462749  1.1576875   0.63675811 -0.86369652 -0.55003397\n",
      "  -0.98816658  0.16573033  0.29915089 -0.94879631]\n",
      " [ 1.49076895 -0.85702484 -1.26515102  1.26664055 -1.28056438 -0.42239037\n",
      "   0.59803465 -0.55311642 -0.80383015 -0.46186709]\n",
      " [-0.70908309  2.33596137  0.25713001  0.21930288 -0.37048316 -1.96223108\n",
      "  -0.95678335  0.96202853 -0.53190963 -0.97336741]\n",
      " [-1.76135306  0.21997549  1.20523576  0.61404035  0.40233838 -1.08228025\n",
      "  -1.32217484 -1.01755873 -0.62629539 -2.14211771]\n",
      " [ 0.11992904  1.4053544   0.01238947  0.32468413  0.97363668  0.39352028\n",
      "  -0.71965462 -0.62456841 -1.09389986 -1.97968321]\n",
      " [ 0.53769393  0.81815154  0.50718687 -1.14843233 -0.92917614 -0.37144517\n",
      "   1.09226046 -0.56286261 -0.78838908 -0.12385193]\n",
      " [ 1.20925289  1.23060787  1.4179623  -0.10497827 -0.29400105 -0.49499809\n",
      "  -1.03006434  0.83925593  0.03723757  0.58364995]\n",
      " [-0.30732778  0.60454088  0.2470851   0.3020363   1.20422272 -1.22655782\n",
      "  -1.43080693  0.78198771 -0.23157542 -0.62585324]\n",
      " [ 0.59771606  1.24581946  0.13844693 -2.02455589  2.28191972  0.78215541\n",
      "   2.12408752 -0.52682806  1.83863632 -0.8445168 ]]\n"
     ]
    }
   ],
   "source": [
    "randdd=np.random.randint(1, high=10, size=50, dtype=np.int).reshape(2,5,5)\n",
    "print(randdd)\n",
    "\n",
    "r= np.random.random((10,10))\n",
    "print(r)\n",
    "\n",
    "gaussinen_diss = np.random.randn(10,10)\n",
    "print(gaussinen_diss)"
   ]
  },
  {
   "cell_type": "code",
   "execution_count": 70,
   "metadata": {},
   "outputs": [
    {
     "name": "stdout",
     "output_type": "stream",
     "text": [
      "5\n",
      "5\n",
      "3\n",
      "9\n",
      "1\n",
      "6\n"
     ]
    }
   ],
   "source": [
    "for i,k in enumerate(np.nditer(randdd)):\n",
    "    if i ==6:\n",
    "        break\n",
    "    print(k)"
   ]
  },
  {
   "cell_type": "code",
   "execution_count": null,
   "metadata": {},
   "outputs": [],
   "source": []
  },
  {
   "cell_type": "code",
   "execution_count": 44,
   "metadata": {},
   "outputs": [],
   "source": [
    " a= np.array([1,2])\n",
    " b = np.array([2,1])\n",
    " "
   ]
  },
  {
   "cell_type": "markdown",
   "metadata": {},
   "source": [
    "dot product . and *"
   ]
  },
  {
   "cell_type": "code",
   "execution_count": 29,
   "metadata": {},
   "outputs": [
    {
     "name": "stdout",
     "output_type": "stream",
     "text": [
      "4\n"
     ]
    }
   ],
   "source": [
    "# python\n",
    "\n",
    "dot = sum(i*j for i,j in zip(a,b))\n",
    "print(dot)"
   ]
  },
  {
   "cell_type": "code",
   "execution_count": 90,
   "metadata": {},
   "outputs": [
    {
     "name": "stdout",
     "output_type": "stream",
     "text": [
      "[2 2]\n",
      "4 4 4 4 4\n"
     ]
    }
   ],
   "source": [
    "# numpy \n",
    "c =(a*b)\n",
    "print(c)\n",
    "print(sum(c),np.sum(c),(c).sum(),np.dot(a,b),a.dot(b))"
   ]
  },
  {
   "cell_type": "code",
   "execution_count": 95,
   "metadata": {},
   "outputs": [
    {
     "name": "stdout",
     "output_type": "stream",
     "text": [
      "4 [2 2]\n"
     ]
    }
   ],
   "source": [
    "print(a@b,a*b)"
   ]
  },
  {
   "cell_type": "markdown",
   "metadata": {},
   "source": [
    "magnitude and angles"
   ]
  },
  {
   "cell_type": "code",
   "execution_count": 50,
   "metadata": {},
   "outputs": [
    {
     "name": "stdout",
     "output_type": "stream",
     "text": [
      "2.23606797749979 2.23606797749979\n"
     ]
    }
   ],
   "source": [
    "\n",
    "print(np.sqrt((a*a).sum()),\n",
    "     np.linalg.norm(a))\n",
    "\n"
   ]
  },
  {
   "cell_type": "code",
   "execution_count": 53,
   "metadata": {},
   "outputs": [
    {
     "name": "stdout",
     "output_type": "stream",
     "text": [
      "0.7999999999999998\n"
     ]
    }
   ],
   "source": [
    "cos = a.dot(b) / (np.linalg.norm(a)*np.linalg.norm(b))\n",
    "print(cos)"
   ]
  },
  {
   "cell_type": "code",
   "execution_count": 55,
   "metadata": {},
   "outputs": [
    {
     "name": "stdout",
     "output_type": "stream",
     "text": [
      "0.6435011087932847\n"
     ]
    }
   ],
   "source": [
    "angle = np.arccos(cos)\n",
    "print(angle)"
   ]
  },
  {
   "cell_type": "markdown",
   "metadata": {},
   "source": [
    "vector and matrices"
   ]
  },
  {
   "cell_type": "code",
   "execution_count": 65,
   "metadata": {},
   "outputs": [],
   "source": [
    "L = [[1,2],[3,4]]\n",
    "M =  np.array(L)\n",
    "Mat = np.matrix(L)\n",
    "npM = np.array(Mat)"
   ]
  },
  {
   "cell_type": "code",
   "execution_count": 64,
   "metadata": {},
   "outputs": [
    {
     "name": "stdout",
     "output_type": "stream",
     "text": [
      "1 1 1 1 [[1 2]]\n"
     ]
    }
   ],
   "source": [
    "print(\n",
    "L[0][0],\n",
    "M[0,0],\n",
    "M[0][0],\n",
    "Mat[0,0],\n",
    "Mat[0][0])"
   ]
  },
  {
   "cell_type": "code",
   "execution_count": 75,
   "metadata": {},
   "outputs": [
    {
     "name": "stdout",
     "output_type": "stream",
     "text": [
      "[[1 3]\n",
      " [2 4]] \n",
      "\n",
      " [[1 3]\n",
      " [2 4]]\n"
     ]
    }
   ],
   "source": [
    "print(npM.T,\"\\n\\n\",Mat.T)"
   ]
  },
  {
   "cell_type": "code",
   "execution_count": 83,
   "metadata": {},
   "outputs": [
    {
     "name": "stdout",
     "output_type": "stream",
     "text": [
      "[[-2.   1. ]\n",
      " [ 1.5 -0.5]]\n",
      "\n",
      "[[1.00000000e+00 0.00000000e+00]\n",
      " [1.11022302e-16 1.00000000e+00]]\n",
      "\n",
      "-2.0000000000000004\n"
     ]
    }
   ],
   "source": [
    "#inverse and ident , determence \n",
    "mInv= np.linalg.inv(M)\n",
    "mdeter =  np.linalg.det(M)\n",
    "print(aInv,mInv.dot(M),mdeter, )"
   ]
  },
  {
   "cell_type": "code",
   "execution_count": 88,
   "metadata": {},
   "outputs": [
    {
     "name": "stdout",
     "output_type": "stream",
     "text": [
      "[1 4]\n",
      "\n",
      "[[1 3]\n",
      " [2 4]]\n"
     ]
    }
   ],
   "source": [
    "# diangnel and traspose\n",
    "\n",
    "print(np.diag(M),M.T,sep=\"\\n\\n\")"
   ]
  },
  {
   "cell_type": "code",
   "execution_count": 103,
   "metadata": {},
   "outputs": [
    {
     "name": "stdout",
     "output_type": "stream",
     "text": [
      "[[1 0 0 0 0 0]\n",
      " [0 2 0 0 0 0]\n",
      " [0 0 3 0 0 0]\n",
      " [0 0 0 4 0 0]\n",
      " [0 0 0 0 5 0]\n",
      " [0 0 0 0 0 6]]\n",
      "21 21 21\n"
     ]
    }
   ],
   "source": [
    "diagArray =  np.diag( [1,2,3,4,5,6])\n",
    "\n",
    "print (diagArray)\n",
    "print(diagArray.sum(), diagArray.trace(), np.trace(diagArray))"
   ]
  },
  {
   "cell_type": "code",
   "execution_count": 99,
   "metadata": {},
   "outputs": [
    {
     "name": "stdout",
     "output_type": "stream",
     "text": [
      "[[2 1]\n",
      " [4 2]]\n",
      "4\n"
     ]
    }
   ],
   "source": [
    "#outer product and inner\n",
    "\n",
    "\n",
    "print(np.outer(a,b))\n",
    "print(np.inner(a,b))\n"
   ]
  },
  {
   "cell_type": "markdown",
   "metadata": {},
   "source": [
    "Statistics"
   ]
  },
  {
   "cell_type": "code",
   "execution_count": 74,
   "metadata": {},
   "outputs": [
    {
     "name": "stdout",
     "output_type": "stream",
     "text": [
      "-0.0693864547052572\n",
      "1.012873130631609\n"
     ]
    }
   ],
   "source": [
    "print(gaussinen_diss.mean())\n",
    "print(gaussinen_diss.var())"
   ]
  },
  {
   "cell_type": "markdown",
   "metadata": {},
   "source": [
    "Eigen "
   ]
  },
  {
   "cell_type": "code",
   "execution_count": 108,
   "metadata": {},
   "outputs": [
    {
     "name": "stdout",
     "output_type": "stream",
     "text": [
      "[ 10.          10.48113134  10.98541142  11.51395399  12.06792641\n",
      "  12.64855217  13.25711366  13.89495494  14.56348478  15.26417967\n",
      "  15.9985872   16.76832937  17.57510625  18.42069969  19.30697729\n",
      "  20.23589648  21.20950888  22.22996483  23.29951811  24.42053095\n",
      "  25.59547923  26.82695795  28.11768698  29.47051703  30.88843596\n",
      "  32.37457543  33.93221772  35.56480306  37.2759372   39.06939937\n",
      "  40.94915062  42.9193426   44.98432669  47.14866363  49.41713361\n",
      "  51.79474679  54.28675439  56.89866029  59.63623317  62.50551925\n",
      "  65.51285569  68.6648845   71.9685673   75.43120063  79.06043211\n",
      "  82.86427729  86.85113738  91.0298178   95.40954763 100.        ]\n",
      "\n",
      "\n",
      "[[ 2.05779243e+00  6.81835559e-02  5.19019239e-01 ... -1.01762708e-01\n",
      "   3.43642452e-01  2.70771908e-01]\n",
      " [ 6.81835559e-02  2.50566927e-03  2.25647675e-02 ...  9.36839631e-03\n",
      "  -4.71313070e-03  1.10705803e-03]\n",
      " [ 5.19019239e-01  2.25647675e-02  2.47802729e-01 ...  2.51798099e-01\n",
      "  -2.63950835e-01 -1.02989772e-01]\n",
      " ...\n",
      " [-1.01762708e-01  9.36839631e-03  2.51798099e-01 ...  6.63629807e-01\n",
      "  -8.49245670e-01 -4.19954820e-01]\n",
      " [ 3.43642452e-01 -4.71313070e-03 -2.63950835e-01 ... -8.49245670e-01\n",
      "   1.10908084e+00  5.58982322e-01]\n",
      " [ 2.70771908e-01  1.10705803e-03 -1.02989772e-01 ... -4.19954820e-01\n",
      "   5.58982322e-01  2.86609049e-01]]\n",
      "\n",
      "\n",
      "(100, 100)\n",
      "\n",
      "\n",
      "[[ 0.85977168 -0.06161449  0.12168481]\n",
      " [-0.06161449  0.99001768  0.03781148]\n",
      " [ 0.12168481  0.03781148  1.00418828]]\n",
      "\n",
      "\n",
      "(3, 3)\n"
     ]
    }
   ],
   "source": [
    "#  init \n",
    "X = np.random.randn(100,3)\n",
    "\n",
    "coVar = np.cov(X)\n",
    "coVar.shape\n",
    "covVarReal = np.cov(X.T)\n",
    "\n",
    "print(x,coVar,coVar.shape,covVarReal,covVarReal.shape,sep=\"\\n\\n\\n\")"
   ]
  },
  {
   "cell_type": "code",
   "execution_count": 110,
   "metadata": {},
   "outputs": [
    {
     "name": "stdout",
     "output_type": "stream",
     "text": [
      "(array([0.7670665 , 1.01334844, 1.07356269]), array([[ 0.8254836 ,  0.28635179, -0.48639436],\n",
      "       [ 0.30831089, -0.95058957, -0.03638497],\n",
      "       [-0.47278031, -0.11992548, -0.87298148]]))\n",
      "(array([0.7670665 , 1.07356269, 1.01334844]), array([[ 0.8254836 ,  0.48639436, -0.28635179],\n",
      "       [ 0.30831089,  0.03638497,  0.95058957],\n",
      "       [-0.47278031,  0.87298148,  0.11992548]]))\n"
     ]
    }
   ],
   "source": [
    "# eigen\n",
    "eigh = np.linalg.eigh(covVarReal)\n",
    "\n",
    "eig = np.linalg.eig(covVarReal)\n",
    "# the first row is eigen values and next one is eigen matrix\n",
    "print(eigh,eig,sep=\"\\n\")"
   ]
  },
  {
   "cell_type": "markdown",
   "metadata": {},
   "source": [
    "Linear Systems"
   ]
  },
  {
   "cell_type": "code",
   "execution_count": 117,
   "metadata": {},
   "outputs": [
    {
     "name": "stdout",
     "output_type": "stream",
     "text": [
      "[-3.   2.5] [-3.   2.5]\n"
     ]
    }
   ],
   "source": [
    "solu =  np.linalg.inv(M).dot(b)\n",
    "\n",
    "print(solu,np.linalg.solve(M,b))"
   ]
  },
  {
   "cell_type": "markdown",
   "metadata": {},
   "source": [
    "<h1>Linear System example</h1>\n",
    "In the past, I would have set this up by picking a variable for one of the groups (say, \"O\" for \"children\") and then use \"(total) less (what I've already accounted for)\" (in this case, \"2200 – O\") for the other group. Using a system of equations, however, allows me to use two different variables for the two different unknowns.\n",
    "\n",
    "number of adults: K\n",
    "\n",
    "number of children: O\n",
    "\n",
    "With these variables, I can create equations for the totals they've given me:\n",
    "\n",
    "total number: K + O = 2200\n",
    "\n",
    "total income: 4K + 1.5O = 5050"
   ]
  },
  {
   "cell_type": "code",
   "execution_count": 121,
   "metadata": {},
   "outputs": [
    {
     "name": "stdout",
     "output_type": "stream",
     "text": [
      "700.0 1500.0 [ 700. 1500.]\n"
     ]
    }
   ],
   "source": [
    "m1 =  np.array([[1,1],[4,1.5]])\n",
    "m2 =  np.array([2200,5050])\n",
    "k,o =  np.linalg.solve(m1,m2)\n",
    "print(k,o,np.linalg.solve(m1,m2))"
   ]
  }
 ],
 "metadata": {
  "kernelspec": {
   "display_name": "Python 3",
   "language": "python",
   "name": "python3"
  },
  "language_info": {
   "codemirror_mode": {
    "name": "ipython",
    "version": 3
   },
   "file_extension": ".py",
   "mimetype": "text/x-python",
   "name": "python",
   "nbconvert_exporter": "python",
   "pygments_lexer": "ipython3",
   "version": "3.6.4"
  }
 },
 "nbformat": 4,
 "nbformat_minor": 2
}
