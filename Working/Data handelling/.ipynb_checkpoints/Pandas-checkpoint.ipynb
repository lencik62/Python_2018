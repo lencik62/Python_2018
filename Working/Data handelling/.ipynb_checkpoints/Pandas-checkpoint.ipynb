{
 "cells": [
  {
   "cell_type": "code",
   "execution_count": 3,
   "metadata": {},
   "outputs": [],
   "source": [
    "from pandas import DataFrame\n",
    "from pandas import Series\n",
    "import numpy as np"
   ]
  },
  {
   "cell_type": "markdown",
   "metadata": {},
   "source": [
    "<h1>Loading Data</h1>"
   ]
  },
  {
   "cell_type": "code",
   "execution_count": 4,
   "metadata": {},
   "outputs": [
    {
     "name": "stdout",
     "output_type": "stream",
     "text": [
      "<class 'pandas.core.frame.DataFrame'>\n",
      "RangeIndex: 100 entries, 0 to 99\n",
      "Data columns (total 3 columns):\n",
      "0    100 non-null float64\n",
      "1    100 non-null float64\n",
      "2    100 non-null float64\n",
      "dtypes: float64(3)\n",
      "memory usage: 2.4 KB\n",
      "None\n"
     ]
    }
   ],
   "source": [
    "import pandas as pd\n",
    "\n",
    "path=\"\"\n",
    "# skip that last 0 rows does not work with the default engine\n",
    "dataCSV= pd.read_csv(\"data_2d.csv\",header=None,engine =\"python\",skipfooter =0)\n",
    "print(dataCSV.info())"
   ]
  },
  {
   "cell_type": "code",
   "execution_count": 5,
   "metadata": {},
   "outputs": [
    {
     "name": "stdout",
     "output_type": "stream",
     "text": [
      "<class 'pandas.core.frame.DataFrame'>\n",
      "RangeIndex: 100 entries, 0 to 99\n",
      "Data columns (total 3 columns):\n",
      "Author    100 non-null object\n",
      "Quote     100 non-null object\n",
      "Tags      100 non-null object\n",
      "dtypes: object(3)\n",
      "memory usage: 2.4+ KB\n",
      "None\n",
      "              Author                                              Quote  \\\n",
      "0  [ALBERT EINSTEIN]  [The world as we have created it is a process ...   \n",
      "1     [J.K. ROWLING]  [It is our choices, Harry, that show what we t...   \n",
      "2  [ALBERT EINSTEIN]  [There are only two ways to live your life. On...   \n",
      "3      [JANE AUSTEN]  [The person, be it gentleman or lady, who has ...   \n",
      "4   [MARILYN MONROE]  [Imperfection is beauty, madness is genius and...   \n",
      "\n",
      "                                         Tags  \n",
      "0       [change,deep-thoughts,thinking,world]  \n",
      "1                         [abilities,choices]  \n",
      "2  [inspirational,life,live,miracle,miracles]  \n",
      "3             [aliteracy,books,classic,humor]  \n",
      "4                 [be-yourself,inspirational]  \n"
     ]
    }
   ],
   "source": [
    "dataJSON= pd.read_json(\"CssOutput.json\")\n",
    "print(dataJSON.info())\n",
    "print(dataJSON.head(5))"
   ]
  },
  {
   "cell_type": "code",
   "execution_count": 6,
   "metadata": {},
   "outputs": [],
   "source": [
    "# dataEXCEL= pd.read_excel(path)"
   ]
  },
  {
   "cell_type": "markdown",
   "metadata": {},
   "source": [
    "<h1>DataFrame</h1>"
   ]
  },
  {
   "cell_type": "code",
   "execution_count": 7,
   "metadata": {},
   "outputs": [
    {
     "name": "stdout",
     "output_type": "stream",
     "text": [
      "   Age     Name  Salary\n",
      "0   34      Rob    1000\n",
      "1   28    Bucky    5000\n",
      "2   23  Onizuka       2\n"
     ]
    }
   ],
   "source": [
    "spacer=\"\\n-----------------------------\\n\"\n",
    "data={\"Name\":[\"Rob\",\"Bucky\",\"Onizuka\"]\n",
    ",\"Age\":[34,28,23]\n",
    ",\"Salary\":[1000,5000,2]}\n",
    "\n",
    "data=DataFrame(data)\n",
    "print(data)\n"
   ]
  },
  {
   "cell_type": "code",
   "execution_count": 35,
   "metadata": {},
   "outputs": [
    {
     "name": "stdout",
     "output_type": "stream",
     "text": [
      "\n",
      "-----------------------------\n",
      "    Salary     Name  Age\n",
      "0    1000      Rob   34\n",
      "1    5000    Bucky   28\n",
      "2       2  Onizuka   23\n",
      "\n",
      "-----------------------------\n",
      "    Salary     Name  Nationailty  Age\n",
      "0    1000      Rob          NaN   34\n",
      "1    5000    Bucky          NaN   28\n",
      "2       2  Onizuka          NaN   23\n"
     ]
    }
   ],
   "source": [
    "# data\n",
    "\n",
    "\n",
    "New_frame=DataFrame(data=data, columns=[\"Salary\",\"Name\",\"Age\"])\n",
    "print(spacer,New_frame)\n",
    "New_frame=DataFrame(data=data, columns=[\"Salary\",\"Name\",\"Nationailty\",\"Age\"])\n",
    "print(spacer,New_frame)\n"
   ]
  },
  {
   "cell_type": "markdown",
   "metadata": {},
   "source": [
    "<h2>Columns title</h2>"
   ]
  },
  {
   "cell_type": "code",
   "execution_count": 40,
   "metadata": {},
   "outputs": [
    {
     "name": "stdout",
     "output_type": "stream",
     "text": [
      "['Author' 'Quote' 'Tags']\n",
      "['BY' 'Quote' 'About']\n"
     ]
    }
   ],
   "source": [
    "print(dataJSON.columns.values)\n",
    "dataJSON.columns = ['BY', 'Quote', 'About']\n",
    "print(dataJSON.columns.values)\n"
   ]
  },
  {
   "cell_type": "code",
   "execution_count": 9,
   "metadata": {},
   "outputs": [
    {
     "name": "stdout",
     "output_type": "stream",
     "text": [
      "\n",
      "-----------------------------\n",
      " 0    1000\n",
      "1    5000\n",
      "2       2\n",
      "Name: Salary, dtype: int64\n",
      "\n",
      "-----------------------------\n",
      " Salary               2\n",
      "Name           Onizuka\n",
      "Nationailty        NaN\n",
      "Age                 23\n",
      "Name: 2, dtype: object\n",
      "0     17.930201\n",
      "1     94.520592\n",
      "2    320.259530\n",
      "Name: 0, dtype: float64\n",
      "           0          1           2\n",
      "5   3.192702  29.256299   94.618811\n",
      "44  3.593966  96.252217  293.237183\n",
      "54  4.593463  46.335932  145.818745\n",
      "90  1.382983  84.944087  252.905653\n",
      "99  4.142669  52.254726  168.034401\n"
     ]
    }
   ],
   "source": [
    "#\n",
    "############################################\n",
    "# row or ix[] iloc []\n",
    "print(spacer,New_frame[\"Salary\"])\n",
    "print(spacer,New_frame.iloc[2])# ix is refering to x axis\n",
    "\n",
    "#  getting the first row\n",
    "# print(dataCSV.ix[0]) # derepc\n",
    "print(dataCSV.iloc[0])\n",
    "\n",
    "#  getting data form all the rows where 1st value is less that 5\n",
    "print(dataCSV[dataCSV[0]<5])\n"
   ]
  },
  {
   "cell_type": "code",
   "execution_count": 10,
   "metadata": {},
   "outputs": [
    {
     "name": "stdout",
     "output_type": "stream",
     "text": [
      "   Salary     Name  Nationailty  Age\n",
      "0    1000      Rob          NaN   34\n",
      "1    5000    Bucky          NaN   28\n",
      "2       2  Onizuka          NaN   23\n",
      "   Salary     Name  Nationailty  Age EDU.LVL.\n",
      "0    1000      Rob          NaN   34       MS\n",
      "1    5000    Bucky          NaN   28       MS\n",
      "2       2  Onizuka          NaN   23       MS\n",
      "                0      1        2\n",
      "Salary       1000   5000        2\n",
      "Name          Rob  Bucky  Onizuka\n",
      "Nationailty   NaN    NaN      NaN\n",
      "Age            34     28       23\n",
      "EDU.LVL.       MS     MS       MS\n",
      "  Salary     Name Nationailty Age EDU.LVL.\n",
      "0   1000      Rob         NaN  34       MS\n",
      "1   5000    Bucky         NaN  28       MS\n",
      "2      2  Onizuka         NaN  23       MS\n"
     ]
    }
   ],
   "source": [
    "print(New_frame)\n",
    "\n",
    "New_frame[\"EDU.LVL.\"]=\"MS\"\n",
    "print(New_frame)\n",
    "### Transposing\n",
    "New_frame=New_frame.T\n",
    "print(New_frame)\n",
    "\n",
    "New_frame=New_frame.T\n",
    "# New_frame.reindex([0,2,1])\n",
    "#\n",
    "# fields=[\"Alpha\",\"Beta\",\"Gamma\"]\n",
    "#\n",
    "# New_frame=New_frame.reindex(columns=fields)\n",
    "# drops a row\n",
    "print(New_frame)\n",
    "\n",
    "New_frame=New_frame.drop([2,0])# a list\n",
    "\n"
   ]
  },
  {
   "cell_type": "code",
   "execution_count": 11,
   "metadata": {},
   "outputs": [
    {
     "name": "stdout",
     "output_type": "stream",
     "text": [
      "  Salary   Name Age EDU.LVL.\n",
      "1   5000  Bucky  28       MS\n"
     ]
    }
   ],
   "source": [
    "# for droping  a col\n",
    "\n",
    "New_frame=New_frame.drop(\"Nationailty\",axis=1)\n",
    "print(New_frame)"
   ]
  },
  {
   "cell_type": "code",
   "execution_count": 12,
   "metadata": {},
   "outputs": [
    {
     "name": "stdout",
     "output_type": "stream",
     "text": [
      "   Humidity  Speed  Temp\n",
      "0       NaN    211    89\n",
      "1       NaN    303    76\n",
      "2       NaN    190    60\n",
      "   Speed  Temp\n",
      "0  10000  1156\n",
      "1  10609   529\n",
      "2  11025  3025\n",
      "   Speed  Temp\n",
      "0    102    36\n",
      "1    105    25\n",
      "2    107    57\n",
      "   Speed  Temp\n",
      "0      1     1\n",
      "1      1     2\n",
      "2      0     1\n",
      "   Humidity                Speed                 Temp\n",
      "0       NaN                    0  4071254063142928384\n",
      "1       NaN  1207163699033777601  2688227151811855479\n",
      "2       NaN  6147008343355840265            503284375\n",
      "   Speed  Temp   0   1   2\n",
      "0    NaN   NaN NaN NaN NaN\n",
      "1    NaN   NaN NaN NaN NaN\n",
      "2    NaN   NaN NaN NaN NaN\n",
      "   Humidity  Speed  Temp\n",
      "0       NaN    100   102\n",
      "1       NaN    103    69\n",
      "2       NaN    105   165\n",
      "   Humidity  Speed  Temp\n",
      "0       NaN    101    37\n",
      "1       NaN    104    26\n",
      "2       NaN    106    58\n",
      "   Humidity  Speed  Temp\n",
      "0        47    112    58\n",
      "1        57    201    56\n",
      "2       101     86     8\n"
     ]
    }
   ],
   "source": [
    "\n",
    "\n",
    "\n",
    "## Arithmetic operations\n",
    "\n",
    "data1=DataFrame({\"Speed\":[100,103,105]\n",
    ",\"Temp\":[34,23,55]\n",
    "})\n",
    "\n",
    "data2=DataFrame({\"Speed\":[111,200,85]\n",
    ",\"Temp\":[55,53,5],\n",
    "\"Humidity\":[45,55,99]\n",
    "})\n",
    "Seris=Series([1,2,3])\n",
    "Seris1=Series([1,2,3],index=[\"Speed\",\"Humidity\",\"Temp\"])\n",
    "\n",
    "\n",
    "print(data1+data2)\n",
    "print(data1**2)\n",
    "print(data1+2)\n",
    "print(data1%3)\n",
    "print(data1**data2)\n",
    "print(Seris*data1)\n",
    "print(Seris1*data1)\n",
    "print(Seris1+data1)\n",
    "print(Seris1+data2)\n"
   ]
  },
  {
   "cell_type": "code",
   "execution_count": 13,
   "metadata": {},
   "outputs": [
    {
     "name": "stdout",
     "output_type": "stream",
     "text": [
      "   Speed  Temp\n",
      "0    100    34\n",
      "1    103    23\n",
      "2    105    55\n",
      "   Speed  Temp\n",
      "1    103    23\n",
      "0    100    34\n",
      "2    105    55\n",
      "   Speed  Temp\n",
      "0    100    34\n",
      "1    103    23\n",
      "2    105    55\n",
      "   Speed  Temp\n",
      "0    100    34\n",
      "1    103    23\n",
      "2    105    55\n"
     ]
    }
   ],
   "source": [
    "\n",
    "##sorting\n",
    "print(data1.sort_index())\n",
    "print(data1.sort_values(\"Temp\"))\n",
    "print(data1.sort_values(by=\"Speed\"))\n",
    "print(data1.sort_index(axis=1))\n"
   ]
  },
  {
   "cell_type": "code",
   "execution_count": 14,
   "metadata": {},
   "outputs": [
    {
     "name": "stdout",
     "output_type": "stream",
     "text": [
      "   Speed  Temp\n",
      "0    100    34\n",
      "1    103    23\n",
      "2    105    55 \n",
      "-----------------------------\n",
      "\n",
      "0    134\n",
      "1    126\n",
      "2    160\n",
      "dtype: int64\n",
      "Humidity     99\n",
      "Speed       200\n",
      "Temp         55\n",
      "dtype: int64\n",
      "Humidity    2\n",
      "Speed       1\n",
      "Temp        0\n",
      "dtype: int64\n"
     ]
    }
   ],
   "source": [
    "\n",
    "# maj math\n",
    "print(data1,spacer)\n",
    "print(data1.sum(axis=1))\n",
    "print(data2.max())\n",
    "print(data2.idxmax())\n"
   ]
  },
  {
   "cell_type": "code",
   "execution_count": 15,
   "metadata": {},
   "outputs": [
    {
     "name": "stdout",
     "output_type": "stream",
     "text": [
      "   Speed  Temp\n",
      "0  100.0  34.0\n",
      "1    NaN   NaN\n",
      "2  105.0  55.0\n",
      "   Speed  Temp\n",
      "0  100.0  34.0\n",
      "2  105.0  55.0\n",
      "   Speed   Temp\n",
      "0  100.0   34.0\n",
      "1  100.0  100.0\n",
      "2  105.0   55.0\n"
     ]
    }
   ],
   "source": [
    "\n",
    "\n",
    "# np.nan droping\n",
    "data1=DataFrame({\"Speed\":[100,np.nan,105]\n",
    ",\"Temp\":[34,np.nan,55]\n",
    "})\n",
    "\n",
    "data2=DataFrame({\"Speed\":[111,200,85]\n",
    ",\"Temp\":[55,53,5],\n",
    "\"Humidity\":[45,55,99]\n",
    "})\n",
    "\n",
    "print(data1)\n",
    "print(data1.dropna())\n",
    "\n",
    "data1=DataFrame({\"Speed\":[100,np.nan,105]\n",
    ",\"Temp\":[34,np.nan,55]\n",
    "})\n",
    "\n",
    "print(data1.fillna(100))"
   ]
  },
  {
   "cell_type": "markdown",
   "metadata": {},
   "source": [
    "<h1>Series</h1>"
   ]
  },
  {
   "cell_type": "code",
   "execution_count": 16,
   "metadata": {},
   "outputs": [],
   "source": [
    "# init\n",
    "from pandas import Series\n",
    "se= Series([1,2,3,4,5,6])\n"
   ]
  },
  {
   "cell_type": "code",
   "execution_count": 17,
   "metadata": {},
   "outputs": [
    {
     "name": "stdout",
     "output_type": "stream",
     "text": [
      "0    1\n",
      "1    2\n",
      "2    3\n",
      "3    4\n",
      "4    5\n",
      "5    6\n",
      "dtype: int64 1 4\n",
      "0    100\n",
      "1    110\n",
      "2    120\n",
      "5    130\n",
      "dtype: int64\n",
      "0    100\n",
      "a    110\n",
      "2    120\n",
      "5    130\n",
      "dtype: int64\n",
      "100\n",
      "110\n"
     ]
    }
   ],
   "source": [
    "print(se,se[0],se[3],)\n",
    "\n",
    "s2=Series([100,110,120,130],index=[0,1,2,5])\n",
    "print(s2)\n",
    "s2=Series([100,110,120,130],index=[0,\"a\",2,5])\n",
    "print(s2,s2[0],s2[\"a\"],sep = \"\\n\")\n"
   ]
  },
  {
   "cell_type": "code",
   "execution_count": 18,
   "metadata": {},
   "outputs": [
    {
     "name": "stdout",
     "output_type": "stream",
     "text": [
      "Albert       81000\n",
      "Bill      83213000\n",
      "Carry         7000\n",
      "Mat           8000\n",
      "dtype: int64\n"
     ]
    }
   ],
   "source": [
    "\n",
    "salaries ={\"Albert\":81000,\"Mat\":8000,\"Bill\":83213000,\"Carry\":7000}\n",
    "\n",
    "NewSalaries=Series(salaries)\n",
    "\n",
    "print(NewSalaries)\n",
    "\n"
   ]
  },
  {
   "cell_type": "code",
   "execution_count": 19,
   "metadata": {},
   "outputs": [
    {
     "name": "stdout",
     "output_type": "stream",
     "text": [
      "a    100\n",
      "b    200\n",
      "c    300\n",
      "d    400\n",
      "e    500\n",
      "f    600\n",
      "dtype: int64\n",
      "f    600\n",
      "a    100\n",
      "b    200\n",
      "c    300\n",
      "d    400\n",
      "e    500\n",
      "dtype: int64\n"
     ]
    }
   ],
   "source": [
    "S= Series(data=[100,200,300,400,500,600], index=[\"a\",\"b\",\"c\",\"d\",\"e\",\"f\"])\n",
    "print(S)\n",
    "\n",
    "S=S.reindex([\"f\",\"a\",\"b\",\"c\",\"d\",\"e\"])\n",
    "print(S)\n"
   ]
  },
  {
   "cell_type": "code",
   "execution_count": 20,
   "metadata": {},
   "outputs": [
    {
     "name": "stdout",
     "output_type": "stream",
     "text": [
      "0     2\n",
      "1     4\n",
      "2     6\n",
      "3     8\n",
      "4    10\n",
      "5    12\n",
      "6    14\n",
      "dtype: int64\n",
      "0     3.0\n",
      "1     5.0\n",
      "2     7.0\n",
      "3     9.0\n",
      "4    11.0\n",
      "5    13.0\n",
      "6     NaN\n",
      "dtype: float64\n",
      "0     1\n",
      "1     4\n",
      "2     9\n",
      "3    16\n",
      "4    25\n",
      "5    36\n",
      "6    49\n",
      "dtype: int64\n",
      "0     1\n",
      "1     4\n",
      "2     9\n",
      "3    16\n",
      "4    25\n",
      "5    36\n",
      "6    49\n",
      "dtype: int64\n",
      "0     2\n",
      "1     4\n",
      "2     6\n",
      "3     8\n",
      "4    10\n",
      "5    12\n",
      "6    14\n",
      "dtype: int64\n",
      "0   -1\n",
      "1    0\n",
      "2    1\n",
      "3    2\n",
      "4    3\n",
      "5    4\n",
      "6    5\n",
      "dtype: int64\n",
      "0    1\n",
      "1    2\n",
      "2    0\n",
      "3    1\n",
      "4    2\n",
      "5    0\n",
      "6    1\n",
      "dtype: int64\n"
     ]
    }
   ],
   "source": [
    "\n",
    "sAlpha=Series(data=[1,2,3,4,5,6,7])\n",
    "sBeta=Series(data=[2,3,4,5,6,7])\n",
    "\n",
    "print(sAlpha+sAlpha)\n",
    "print(sBeta+sAlpha)\n",
    "print(sAlpha*sAlpha)\n",
    "print(sAlpha**2)\n",
    "print(sAlpha*2)\n",
    "print(sAlpha-2)\n",
    "print(sAlpha%3)"
   ]
  },
  {
   "cell_type": "code",
   "execution_count": 21,
   "metadata": {},
   "outputs": [
    {
     "name": "stdout",
     "output_type": "stream",
     "text": [
      "1      3\n",
      "5      4\n",
      "9     59\n",
      "87     8\n",
      "6      7\n",
      "5     55\n",
      "4      6\n",
      "2     -2\n",
      "dtype: int64\n",
      "1      3\n",
      "2     -2\n",
      "4      6\n",
      "5      4\n",
      "5     55\n",
      "6      7\n",
      "9     59\n",
      "87     8\n",
      "dtype: int64\n",
      "2     -2\n",
      "1      3\n",
      "5      4\n",
      "4      6\n",
      "6      7\n",
      "87     8\n",
      "5     55\n",
      "9     59\n",
      "dtype: int64\n",
      "False\n",
      "688\n"
     ]
    }
   ],
   "source": [
    "##sorting\n",
    "\n",
    "ser=Series([3,4,59,8,7,55,6,-2],index=[1,5,9,87,6,5,4,2])\n",
    "print(ser)\n",
    "print(ser.sort_index())\n",
    "print(ser.sort_values())\n",
    "\n",
    "Sap=Series(data=[100,110,100,155,100,55,68],index=[\"a\",\"b\",\"c\",\"d\",\"d\",\"e\",\"u\"])\n",
    "\n",
    "print(Sap.index.is_unique)\n",
    "print(Sap.sum())\n"
   ]
  },
  {
   "cell_type": "code",
   "execution_count": 22,
   "metadata": {},
   "outputs": [
    {
     "name": "stdout",
     "output_type": "stream",
     "text": [
      "a    1.0\n",
      "b    2.0\n",
      "c    3.0\n",
      "d    4.0\n",
      "e    5.0\n",
      "f    6.0\n",
      "g    7.0\n",
      "h    NaN\n",
      "dtype: float64\n",
      "a    1.0\n",
      "b    2.0\n",
      "c    3.0\n",
      "d    4.0\n",
      "e    5.0\n",
      "f    6.0\n",
      "g    7.0\n",
      "dtype: float64\n"
     ]
    }
   ],
   "source": [
    "\n",
    "## Nan\n",
    "\n",
    "res=Series(data=[1,2,3,4,5,6,7,np.nan], index=[\"a\",\"b\",\"c\",\"d\",\"e\",\"f\",\"g\",\"h\"])\n",
    "\n",
    "print(res)\n",
    "print(res.dropna())"
   ]
  },
  {
   "cell_type": "markdown",
   "metadata": {},
   "source": [
    "<h1>Panda X Numpy </h1>"
   ]
  },
  {
   "cell_type": "code",
   "execution_count": 23,
   "metadata": {},
   "outputs": [
    {
     "name": "stdout",
     "output_type": "stream",
     "text": [
      "[[ 17.93020121  94.52059195 320.2595296 ]\n",
      " [ 97.14469719  69.59328198 404.63447153]\n",
      " [ 81.77590078   5.7376481  181.48510774]\n",
      " [ 55.85434242  70.32590168 321.77363802]\n",
      " [ 49.36654999  75.11404016 322.46548558]\n",
      " [  3.19270247  29.25629886  94.6188109 ]\n",
      " [ 49.20078406  86.14443851 356.34809275]\n",
      " [ 21.8828039   46.8415052  181.65376923]\n",
      " [ 79.50986272  87.39735554 423.55774319]\n",
      " [ 88.1538875   65.20564193 369.22924544]]\n"
     ]
    }
   ],
   "source": [
    "mat = dataCSV.as_matrix()\n",
    "print(mat[0:10,0:10])\n"
   ]
  },
  {
   "cell_type": "code",
   "execution_count": 24,
   "metadata": {
    "scrolled": true
   },
   "outputs": [
    {
     "name": "stdout",
     "output_type": "stream",
     "text": [
      "0     17.930201\n",
      "1     97.144697\n",
      "2     81.775901\n",
      "3     55.854342\n",
      "4     49.366550\n",
      "5      3.192702\n",
      "6     49.200784\n",
      "7     21.882804\n",
      "8     79.509863\n",
      "9     88.153887\n",
      "10    60.743854\n",
      "11    67.415582\n",
      "12    48.318116\n",
      "13    28.829972\n",
      "14    43.853743\n",
      "15    25.313694\n",
      "16    10.807727\n",
      "17    98.365746\n",
      "18    29.146910\n",
      "19    65.100302\n",
      "20    24.644113\n",
      "21    37.559805\n",
      "22    88.164506\n",
      "23    13.834621\n",
      "24    64.410844\n",
      "25    68.925992\n",
      "26    39.488442\n",
      "27    52.463178\n",
      "28    48.484787\n",
      "29     8.062088\n",
      "        ...    \n",
      "70    30.187692\n",
      "71    11.788418\n",
      "72    18.292424\n",
      "73    96.712668\n",
      "74    31.012739\n",
      "75    11.397261\n",
      "76    17.392556\n",
      "77    72.182694\n",
      "78    73.980021\n",
      "79    94.493058\n",
      "80    84.562821\n",
      "81    51.742474\n",
      "82    53.748590\n",
      "83    85.050835\n",
      "84    46.777250\n",
      "85    49.758434\n",
      "86    24.119257\n",
      "87    27.201576\n",
      "88     7.009596\n",
      "89    97.646950\n",
      "90     1.382983\n",
      "91    22.323530\n",
      "92    45.045406\n",
      "93    40.163991\n",
      "94    53.182740\n",
      "95    46.456779\n",
      "96    77.130301\n",
      "97    68.600608\n",
      "98    41.693887\n",
      "99     4.142669\n",
      "Name: 0, Length: 100, dtype: float64 [ 17.93020121  94.52059195 320.2595296 ]\n"
     ]
    }
   ],
   "source": [
    "# np x[0] -> oth row\n",
    "# pd x[0] -> col that has the name '0' or the first col\n",
    "print(dataCSV[0],mat[0])"
   ]
  },
  {
   "cell_type": "markdown",
   "metadata": {},
   "source": [
    "<h1>Functions with pandas /  map / apply</h1>\n",
    "\n",
    "<p>\n",
    "# interaction = []</p>\n",
    "<p>\n",
    "# for idx, row in df.iterrows():</p>\n",
    "<p>\n",
    "#     x1x2 =row['x1'] * row ['x2']</p>\n",
    "<p>\n",
    "#     interaction.append(x1x2)</p>\n",
    "<p>\n",
    "# df['x1x2'] = interaction\n",
    "</p>\n",
    "<p> is same as: df['x1x2']= df.apply(lambda row : row['x1']*row['x2'],axis = 1)</p>"
   ]
  },
  {
   "cell_type": "code",
   "execution_count": 26,
   "metadata": {},
   "outputs": [
    {
     "name": "stdout",
     "output_type": "stream",
     "text": [
      "           0          1           2\n",
      "0  17.930201  94.520592  320.259530\n",
      "1  97.144697  69.593282  404.634472\n",
      "2  81.775901   5.737648  181.485108\n",
      "3  55.854342  70.325902  321.773638\n",
      "4  49.366550  75.114040  322.465486\n",
      "            0          1           2\n",
      "0   35.860402  94.520592  320.259530\n",
      "1  194.289394  69.593282  404.634472\n",
      "2  163.551802   5.737648  181.485108\n",
      "3  111.708685  70.325902  321.773638\n",
      "4   98.733100  75.114040  322.465486\n"
     ]
    }
   ],
   "source": [
    "\n",
    "print(dataCSV.head())\n",
    "dataCSVNew = dataCSV\n",
    "dataCSVNew[0]= dataCSV.apply(lambda num :num *2 ,axis = 1)\n",
    "print(dataCSV.head())\n"
   ]
  },
  {
   "cell_type": "markdown",
   "metadata": {},
   "source": [
    "<h1>combine / join / merge</h1>\n"
   ]
  },
  {
   "cell_type": "code",
   "execution_count": 34,
   "metadata": {},
   "outputs": [
    {
     "name": "stdout",
     "output_type": "stream",
     "text": [
      "            0        1_x         2_x        1_y         2_y\n",
      "0   35.860402  94.520592  320.259530  94.520592  320.259530\n",
      "1  194.289394  69.593282  404.634472  69.593282  404.634472\n",
      "2  163.551802   5.737648  181.485108   5.737648  181.485108\n",
      "3  111.708685  70.325902  321.773638  70.325902  321.773638\n",
      "4   98.733100  75.114040  322.465486  75.114040  322.465486\n",
      "\n",
      "            0          1           2\n",
      "0   35.860402  94.520592  320.259530\n",
      "1  194.289394  69.593282  404.634472\n",
      "2  163.551802   5.737648  181.485108\n",
      "3  111.708685  70.325902  321.773638\n",
      "4   98.733100  75.114040  322.465486\n",
      "\n",
      "            0          1           2\n",
      "0   35.860402  94.520592  320.259530\n",
      "1  194.289394  69.593282  404.634472\n",
      "2  163.551802   5.737648  181.485108\n",
      "3  111.708685  70.325902  321.773638\n",
      "4   98.733100  75.114040  322.465486\n"
     ]
    }
   ],
   "source": [
    "dft = pd.merge(dataCSVNew,dataCSV,on=0)\n",
    "print(dft.head(),dataCSVNew.head(),dataCSV.head(),sep=\"\\n\\n\")\n"
   ]
  }
 ],
 "metadata": {
  "kernelspec": {
   "display_name": "Python 3",
   "language": "python",
   "name": "python3"
  },
  "language_info": {
   "codemirror_mode": {
    "name": "ipython",
    "version": 3
   },
   "file_extension": ".py",
   "mimetype": "text/x-python",
   "name": "python",
   "nbconvert_exporter": "python",
   "pygments_lexer": "ipython3",
   "version": "3.6.4"
  }
 },
 "nbformat": 4,
 "nbformat_minor": 2
}
