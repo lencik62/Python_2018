{
 "cells": [
  {
   "cell_type": "code",
   "execution_count": 2,
   "metadata": {},
   "outputs": [],
   "source": [
    "%config IPCompleter.greedy=True"
   ]
  },
  {
   "cell_type": "code",
   "execution_count": 3,
   "metadata": {},
   "outputs": [],
   "source": [
    "import numpy as np"
   ]
  },
  {
   "cell_type": "markdown",
   "metadata": {},
   "source": [
    "Array gen"
   ]
  },
  {
   "cell_type": "code",
   "execution_count": 4,
   "metadata": {},
   "outputs": [
    {
     "name": "stdout",
     "output_type": "stream",
     "text": [
      "[1 2 3 4]\n"
     ]
    }
   ],
   "source": [
    "\n",
    "List=[1,2,3,4,]\n",
    "a=np.array(List)\n",
    "print(a)"
   ]
  },
  {
   "cell_type": "code",
   "execution_count": 5,
   "metadata": {},
   "outputs": [
    {
     "data": {
      "text/plain": [
       "array([[1, 2],\n",
       "       [3, 4]])"
      ]
     },
     "execution_count": 5,
     "metadata": {},
     "output_type": "execute_result"
    }
   ],
   "source": [
    "\n",
    "a.reshape(2,2)# note #*# must equal len(array)\n"
   ]
  },
  {
   "cell_type": "code",
   "execution_count": 6,
   "metadata": {},
   "outputs": [
    {
     "name": "stdout",
     "output_type": "stream",
     "text": [
      "[  0   1   2   3   4   5   6   7   8   9  10  11  12  13  14  15  16  17\n",
      "  18  19  20  21  22  23  24  25  26  27  28  29  30  31  32  33  34  35\n",
      "  36  37  38  39  40  41  42  43  44  45  46  47  48  49  50  51  52  53\n",
      "  54  55  56  57  58  59  60  61  62  63  64  65  66  67  68  69  70  71\n",
      "  72  73  74  75  76  77  78  79  80  81  82  83  84  85  86  87  88  89\n",
      "  90  91  92  93  94  95  96  97  98  99 100 101 102 103 104 105 106 107\n",
      " 108 109 110 111 112 113 114 115 116 117 118 119 120 121 122 123 124 125\n",
      " 126 127 128 129 130 131 132 133 134 135 136 137 138 139 140 141 142 143\n",
      " 144 145 146 147 148 149 150 151 152 153 154 155 156 157 158 159 160 161\n",
      " 162 163 164 165 166 167 168 169 170 171 172 173 174 175 176 177 178 179\n",
      " 180 181 182 183 184 185 186 187 188 189 190 191 192 193 194 195 196 197\n",
      " 198 199 200 201 202 203 204 205 206 207 208 209 210 211 212 213 214 215\n",
      " 216 217 218 219 220 221 222 223 224 225 226 227 228 229 230 231 232 233\n",
      " 234 235 236 237 238 239 240 241 242 243 244 245 246 247 248 249]\n"
     ]
    }
   ],
   "source": [
    "\n",
    "a=np.arange(250)\n",
    "print(a)\n",
    "\n"
   ]
  },
  {
   "cell_type": "code",
   "execution_count": 7,
   "metadata": {},
   "outputs": [
    {
     "name": "stdout",
     "output_type": "stream",
     "text": [
      "[[[  0   1   2   3   4   5   6   7   8   9]\n",
      "  [ 10  11  12  13  14  15  16  17  18  19]\n",
      "  [ 20  21  22  23  24  25  26  27  28  29]\n",
      "  [ 30  31  32  33  34  35  36  37  38  39]\n",
      "  [ 40  41  42  43  44  45  46  47  48  49]]\n",
      "\n",
      " [[ 50  51  52  53  54  55  56  57  58  59]\n",
      "  [ 60  61  62  63  64  65  66  67  68  69]\n",
      "  [ 70  71  72  73  74  75  76  77  78  79]\n",
      "  [ 80  81  82  83  84  85  86  87  88  89]\n",
      "  [ 90  91  92  93  94  95  96  97  98  99]]\n",
      "\n",
      " [[100 101 102 103 104 105 106 107 108 109]\n",
      "  [110 111 112 113 114 115 116 117 118 119]\n",
      "  [120 121 122 123 124 125 126 127 128 129]\n",
      "  [130 131 132 133 134 135 136 137 138 139]\n",
      "  [140 141 142 143 144 145 146 147 148 149]]\n",
      "\n",
      " [[150 151 152 153 154 155 156 157 158 159]\n",
      "  [160 161 162 163 164 165 166 167 168 169]\n",
      "  [170 171 172 173 174 175 176 177 178 179]\n",
      "  [180 181 182 183 184 185 186 187 188 189]\n",
      "  [190 191 192 193 194 195 196 197 198 199]]\n",
      "\n",
      " [[200 201 202 203 204 205 206 207 208 209]\n",
      "  [210 211 212 213 214 215 216 217 218 219]\n",
      "  [220 221 222 223 224 225 226 227 228 229]\n",
      "  [230 231 232 233 234 235 236 237 238 239]\n",
      "  [240 241 242 243 244 245 246 247 248 249]]]\n"
     ]
    }
   ],
   "source": [
    "\n",
    "print(a.reshape(5,5,10))\n"
   ]
  },
  {
   "cell_type": "code",
   "execution_count": 8,
   "metadata": {},
   "outputs": [
    {
     "name": "stdout",
     "output_type": "stream",
     "text": [
      "[0 0 0 0 0 0 0 0 0 0]\n"
     ]
    }
   ],
   "source": [
    "\n",
    "print(np.zeros(10,dtype=np.int))"
   ]
  },
  {
   "cell_type": "code",
   "execution_count": 9,
   "metadata": {},
   "outputs": [
    {
     "name": "stdout",
     "output_type": "stream",
     "text": [
      "[10. 12. 14. 16. 18.]\n"
     ]
    }
   ],
   "source": [
    "\n",
    "x=np.linspace(10,20,5,endpoint=False)# include endpoint or not\n",
    "print(x)\n"
   ]
  },
  {
   "cell_type": "code",
   "execution_count": 10,
   "metadata": {},
   "outputs": [
    {
     "name": "stdout",
     "output_type": "stream",
     "text": [
      "[ 10.          10.48113134  10.98541142  11.51395399  12.06792641\n",
      "  12.64855217  13.25711366  13.89495494  14.56348478  15.26417967\n",
      "  15.9985872   16.76832937  17.57510625  18.42069969  19.30697729\n",
      "  20.23589648  21.20950888  22.22996483  23.29951811  24.42053095\n",
      "  25.59547923  26.82695795  28.11768698  29.47051703  30.88843596\n",
      "  32.37457543  33.93221772  35.56480306  37.2759372   39.06939937\n",
      "  40.94915062  42.9193426   44.98432669  47.14866363  49.41713361\n",
      "  51.79474679  54.28675439  56.89866029  59.63623317  62.50551925\n",
      "  65.51285569  68.6648845   71.9685673   75.43120063  79.06043211\n",
      "  82.86427729  86.85113738  91.0298178   95.40954763 100.        ]\n"
     ]
    }
   ],
   "source": [
    "x=np.logspace(1.0,2.0, num=50,base=10.0)\n",
    "print(x)\n"
   ]
  },
  {
   "cell_type": "code",
   "execution_count": 11,
   "metadata": {},
   "outputs": [
    {
     "name": "stdout",
     "output_type": "stream",
     "text": [
      "[0 1 2 3 4 5 6 7 8 9]\n",
      "[2 4 6]\n",
      "[2 4 6]\n",
      "[2 5 8]\n"
     ]
    }
   ],
   "source": [
    "#indexing and spiceing\n",
    "\n",
    "a=np.arange(10)\n",
    "print(a)\n",
    "s=slice(2,7,2)\n",
    "\n",
    "print(a[s])\n",
    "print(a[2:7:2])\n",
    "print(a[2::3])\n"
   ]
  },
  {
   "cell_type": "code",
   "execution_count": 12,
   "metadata": {},
   "outputs": [
    {
     "name": "stdout",
     "output_type": "stream",
     "text": [
      "[ 10  40  90 160]\n",
      "[ 5 10 15 20]\n",
      "[1, 2, 3, 4, 1, 2, 3, 4] [1, 2, 3, 4, 5]\n"
     ]
    }
   ],
   "source": [
    "\n",
    "tt=np.array([1,2,3,4])\n",
    "pp=np.array([10,20,30,40])\n",
    "\n",
    "print (tt*pp)\n",
    "print (tt*5)\n",
    "print([1,2,3,4]*2, [1,2,3,4]+[5])"
   ]
  },
  {
   "cell_type": "markdown",
   "metadata": {},
   "source": [
    "numpy does element wise operations vs a python list that just duplicates. therefore you can add, square root... but you have to use the np equivlent "
   ]
  },
  {
   "cell_type": "code",
   "execution_count": 13,
   "metadata": {},
   "outputs": [
    {
     "name": "stdout",
     "output_type": "stream",
     "text": [
      "[[ 0  2  4]\n",
      " [ 3  5  7]\n",
      " [ 6  8 10]]\n"
     ]
    }
   ],
   "source": [
    "\n",
    "a= np.arange(9).reshape(3,3)\n",
    "b=np.arange(3)\n",
    "print(a+b)\n"
   ]
  },
  {
   "cell_type": "code",
   "execution_count": 14,
   "metadata": {},
   "outputs": [
    {
     "name": "stdout",
     "output_type": "stream",
     "text": [
      "[[[2 2 6 5 5]\n",
      "  [4 5 5 9 7]\n",
      "  [4 9 5 8 1]\n",
      "  [8 7 3 2 6]\n",
      "  [9 6 4 1 3]]\n",
      "\n",
      " [[1 7 7 7 2]\n",
      "  [2 1 2 8 5]\n",
      "  [3 7 6 9 8]\n",
      "  [1 3 4 1 8]\n",
      "  [7 2 2 8 3]]]\n",
      "[[0.34022715 0.27592733 0.2746461  0.00378995 0.21460255 0.59760635\n",
      "  0.16114675 0.41995809 0.40478218 0.36055559]\n",
      " [0.23094636 0.86486813 0.10228959 0.63979939 0.92753862 0.47990209\n",
      "  0.01880674 0.84514571 0.75411464 0.60348335]\n",
      " [0.75271312 0.97186684 0.9834955  0.18490224 0.34944764 0.9886342\n",
      "  0.58045031 0.06014158 0.3060001  0.78045294]\n",
      " [0.61555504 0.01507473 0.46626589 0.61872849 0.08371199 0.60772172\n",
      "  0.13515148 0.95720782 0.07812503 0.19646472]\n",
      " [0.47039672 0.4134394  0.03374956 0.9203631  0.47645243 0.43440158\n",
      "  0.64570683 0.03863094 0.43226639 0.32541158]\n",
      " [0.58339261 0.81594345 0.90520495 0.33643599 0.38573553 0.20260886\n",
      "  0.05690468 0.48739175 0.49718722 0.57382035]\n",
      " [0.50751697 0.27261639 0.49229493 0.72588438 0.547372   0.10277577\n",
      "  0.44367251 0.76002727 0.33916605 0.04332752]\n",
      " [0.06974223 0.82812095 0.6412338  0.60435021 0.86203352 0.50926607\n",
      "  0.6696542  0.77981682 0.2175048  0.02007745]\n",
      " [0.68434009 0.34007153 0.13474876 0.91032297 0.42436224 0.32478654\n",
      "  0.69152925 0.56384535 0.63531244 0.31399044]\n",
      " [0.88675112 0.47445478 0.18214735 0.61707518 0.93225414 0.30129429\n",
      "  0.42605798 0.16700286 0.29280537 0.32188453]]\n",
      "[[ 1.6751312  -2.32285412 -0.2229986  -1.60300423  0.02588908  1.99877603\n",
      "  -1.5902595   1.53266583  0.00968152  0.8734369 ]\n",
      " [-0.15033591 -0.85442908 -0.20875432  1.95221332  0.89989906  0.80461272\n",
      "  -0.25468134  0.86097286  0.17894247 -1.36555153]\n",
      " [-0.46299082 -0.27610067  0.42402503  0.76241085  0.1329356   1.25256458\n",
      "  -1.02483482 -2.05425053  0.50534324  1.01586979]\n",
      " [ 0.94453509 -0.27382601 -0.46435464  1.6598742  -0.35826744  1.30152743\n",
      "  -0.51489894 -0.48378191  0.13445083 -0.80740398]\n",
      " [-0.65986121  0.47573178  1.11239884 -1.21851165 -0.46880835 -0.83159465\n",
      "   0.73552338  1.88343715  1.72729781 -1.57051174]\n",
      " [-0.84580075 -0.69041284  0.55305477 -1.41563393 -0.18579574 -1.23973657\n",
      "  -1.39278131 -1.8196128  -0.38121504 -0.11536105]\n",
      " [ 1.88831402 -0.05079279 -0.94918228 -1.66969886  0.08338737 -1.45294862\n",
      "   1.14840097  1.52494897 -0.25232171  1.80929743]\n",
      " [-0.12140071 -0.46240709  0.6066125  -0.05687261 -0.58484786  1.48900663\n",
      "  -0.33475606 -0.72670044 -0.66036125  1.38919579]\n",
      " [-0.57905331  0.31818733  1.50667514 -1.27057613 -1.58732521  1.30515753\n",
      "   1.2695621   0.477271    0.0756676  -0.45682509]\n",
      " [ 0.34421268  0.6618934   0.04966192 -0.08876762 -0.10428223 -0.25652791\n",
      "  -0.42688747  0.51924422  0.53840731  1.52868962]]\n"
     ]
    }
   ],
   "source": [
    "randdd=np.random.randint(1, high=10, size=50, dtype=np.int).reshape(2,5,5)\n",
    "print(randdd)\n",
    "\n",
    "r= np.random.random((10,10))\n",
    "print(r)\n",
    "\n",
    "gaussinen_diss = np.random.randn(10,10)\n",
    "\n",
    "# stand dev 10  and mean of 5\n",
    "r = 10 * np.random.randn(1000) +5 \n",
    "\n",
    "print(gaussinen_diss)"
   ]
  },
  {
   "cell_type": "code",
   "execution_count": 15,
   "metadata": {},
   "outputs": [
    {
     "name": "stdout",
     "output_type": "stream",
     "text": [
      "2\n",
      "2\n",
      "6\n",
      "5\n",
      "5\n",
      "4\n"
     ]
    }
   ],
   "source": [
    "for i,k in enumerate(np.nditer(randdd)):\n",
    "    if i ==6:\n",
    "        break\n",
    "    print(k)"
   ]
  },
  {
   "cell_type": "code",
   "execution_count": 16,
   "metadata": {},
   "outputs": [],
   "source": [
    " a= np.array([1,2])\n",
    " b = np.array([2,1])\n",
    " "
   ]
  },
  {
   "cell_type": "markdown",
   "metadata": {},
   "source": [
    "dot product . and *"
   ]
  },
  {
   "cell_type": "code",
   "execution_count": 17,
   "metadata": {},
   "outputs": [
    {
     "name": "stdout",
     "output_type": "stream",
     "text": [
      "4\n"
     ]
    }
   ],
   "source": [
    "# python\n",
    "\n",
    "dot = sum(i*j for i,j in zip(a,b))\n",
    "print(dot)"
   ]
  },
  {
   "cell_type": "code",
   "execution_count": 18,
   "metadata": {},
   "outputs": [
    {
     "name": "stdout",
     "output_type": "stream",
     "text": [
      "[2 2]\n",
      "4 4 4 4 4\n"
     ]
    }
   ],
   "source": [
    "# numpy \n",
    "c =(a*b)\n",
    "print(c)\n",
    "print(sum(c),np.sum(c),(c).sum(),np.dot(a,b),a.dot(b))"
   ]
  },
  {
   "cell_type": "code",
   "execution_count": 19,
   "metadata": {},
   "outputs": [
    {
     "name": "stdout",
     "output_type": "stream",
     "text": [
      "4 [2 2]\n"
     ]
    }
   ],
   "source": [
    "print(a@b,a*b)"
   ]
  },
  {
   "cell_type": "markdown",
   "metadata": {},
   "source": [
    "magnitude and angles"
   ]
  },
  {
   "cell_type": "code",
   "execution_count": 20,
   "metadata": {},
   "outputs": [
    {
     "name": "stdout",
     "output_type": "stream",
     "text": [
      "2.23606797749979 2.23606797749979\n"
     ]
    }
   ],
   "source": [
    "\n",
    "print(np.sqrt((a*a).sum()),\n",
    "     np.linalg.norm(a))\n",
    "\n"
   ]
  },
  {
   "cell_type": "code",
   "execution_count": 21,
   "metadata": {},
   "outputs": [
    {
     "name": "stdout",
     "output_type": "stream",
     "text": [
      "0.7999999999999998\n"
     ]
    }
   ],
   "source": [
    "cos = a.dot(b) / (np.linalg.norm(a)*np.linalg.norm(b))\n",
    "print(cos)"
   ]
  },
  {
   "cell_type": "code",
   "execution_count": 22,
   "metadata": {},
   "outputs": [
    {
     "name": "stdout",
     "output_type": "stream",
     "text": [
      "0.6435011087932847\n"
     ]
    }
   ],
   "source": [
    "angle = np.arccos(cos)\n",
    "print(angle)"
   ]
  },
  {
   "cell_type": "markdown",
   "metadata": {},
   "source": [
    "vector and matrices"
   ]
  },
  {
   "cell_type": "code",
   "execution_count": 23,
   "metadata": {},
   "outputs": [],
   "source": [
    "L = [[1,2],[3,4]]\n",
    "M =  np.array(L)\n",
    "Mat = np.matrix(L)\n",
    "npM = np.array(Mat)"
   ]
  },
  {
   "cell_type": "code",
   "execution_count": 24,
   "metadata": {},
   "outputs": [
    {
     "name": "stdout",
     "output_type": "stream",
     "text": [
      "1 1 1 1 [[1 2]]\n"
     ]
    }
   ],
   "source": [
    "print(\n",
    "L[0][0],\n",
    "M[0,0],\n",
    "M[0][0],\n",
    "Mat[0,0],\n",
    "Mat[0][0])"
   ]
  },
  {
   "cell_type": "code",
   "execution_count": 25,
   "metadata": {},
   "outputs": [
    {
     "name": "stdout",
     "output_type": "stream",
     "text": [
      "[[1 3]\n",
      " [2 4]] \n",
      "\n",
      " [[1 3]\n",
      " [2 4]]\n"
     ]
    }
   ],
   "source": [
    "print(npM.T,\"\\n\\n\",Mat.T)"
   ]
  },
  {
   "cell_type": "code",
   "execution_count": 27,
   "metadata": {},
   "outputs": [
    {
     "ename": "NameError",
     "evalue": "name 'aInv' is not defined",
     "output_type": "error",
     "traceback": [
      "\u001b[1;31m---------------------------------------------------------------------------\u001b[0m",
      "\u001b[1;31mNameError\u001b[0m                                 Traceback (most recent call last)",
      "\u001b[1;32m<ipython-input-27-c81898b85e6b>\u001b[0m in \u001b[0;36m<module>\u001b[1;34m()\u001b[0m\n\u001b[0;32m      2\u001b[0m \u001b[0mmInv\u001b[0m\u001b[1;33m=\u001b[0m \u001b[0mnp\u001b[0m\u001b[1;33m.\u001b[0m\u001b[0mlinalg\u001b[0m\u001b[1;33m.\u001b[0m\u001b[0minv\u001b[0m\u001b[1;33m(\u001b[0m\u001b[0mM\u001b[0m\u001b[1;33m)\u001b[0m\u001b[1;33m\u001b[0m\u001b[0m\n\u001b[0;32m      3\u001b[0m \u001b[0mmdeter\u001b[0m \u001b[1;33m=\u001b[0m  \u001b[0mnp\u001b[0m\u001b[1;33m.\u001b[0m\u001b[0mlinalg\u001b[0m\u001b[1;33m.\u001b[0m\u001b[0mdet\u001b[0m\u001b[1;33m(\u001b[0m\u001b[0mM\u001b[0m\u001b[1;33m)\u001b[0m\u001b[1;33m\u001b[0m\u001b[0m\n\u001b[1;32m----> 4\u001b[1;33m \u001b[0mprint\u001b[0m\u001b[1;33m(\u001b[0m\u001b[0maInv\u001b[0m\u001b[1;33m,\u001b[0m\u001b[0mmInv\u001b[0m\u001b[1;33m.\u001b[0m\u001b[0mdot\u001b[0m\u001b[1;33m(\u001b[0m\u001b[0mM\u001b[0m\u001b[1;33m)\u001b[0m\u001b[1;33m,\u001b[0m\u001b[0mmdeter\u001b[0m \u001b[1;33m)\u001b[0m\u001b[1;33m\u001b[0m\u001b[0m\n\u001b[0m",
      "\u001b[1;31mNameError\u001b[0m: name 'aInv' is not defined"
     ]
    }
   ],
   "source": [
    "#inverse and ident , determence \n",
    "mInv= np.linalg.inv(M)\n",
    "mdeter =  np.linalg.det(M)\n",
    "print(aInv,mInv.dot(M),mdeter )"
   ]
  },
  {
   "cell_type": "code",
   "execution_count": 28,
   "metadata": {},
   "outputs": [
    {
     "name": "stdout",
     "output_type": "stream",
     "text": [
      "[1 4]\n",
      "\n",
      "[[1 3]\n",
      " [2 4]]\n"
     ]
    }
   ],
   "source": [
    "# diangnel and traspose\n",
    "\n",
    "print(np.diag(M),M.T,sep=\"\\n\\n\")"
   ]
  },
  {
   "cell_type": "code",
   "execution_count": 29,
   "metadata": {},
   "outputs": [
    {
     "name": "stdout",
     "output_type": "stream",
     "text": [
      "[[1 0 0 0 0 0]\n",
      " [0 2 0 0 0 0]\n",
      " [0 0 3 0 0 0]\n",
      " [0 0 0 4 0 0]\n",
      " [0 0 0 0 5 0]\n",
      " [0 0 0 0 0 6]]\n",
      "21 21 21\n"
     ]
    }
   ],
   "source": [
    "diagArray =  np.diag( [1,2,3,4,5,6])\n",
    "\n",
    "print (diagArray)\n",
    "print(diagArray.sum(), diagArray.trace(), np.trace(diagArray))"
   ]
  },
  {
   "cell_type": "code",
   "execution_count": 30,
   "metadata": {},
   "outputs": [
    {
     "name": "stdout",
     "output_type": "stream",
     "text": [
      "[[2 1]\n",
      " [4 2]]\n",
      "4\n"
     ]
    }
   ],
   "source": [
    "#outer product and inner\n",
    "\n",
    "\n",
    "print(np.outer(a,b))\n",
    "print(np.inner(a,b))\n"
   ]
  },
  {
   "cell_type": "markdown",
   "metadata": {},
   "source": [
    "Statistics"
   ]
  },
  {
   "cell_type": "code",
   "execution_count": 31,
   "metadata": {},
   "outputs": [
    {
     "name": "stdout",
     "output_type": "stream",
     "text": [
      "0.03745243666717125\n",
      "1.063687890351246\n"
     ]
    }
   ],
   "source": [
    "print(gaussinen_diss.mean())\n",
    "print(gaussinen_diss.var())"
   ]
  },
  {
   "cell_type": "markdown",
   "metadata": {},
   "source": [
    "Eigen "
   ]
  },
  {
   "cell_type": "code",
   "execution_count": 32,
   "metadata": {},
   "outputs": [
    {
     "name": "stdout",
     "output_type": "stream",
     "text": [
      "[ 10.          10.48113134  10.98541142  11.51395399  12.06792641\n",
      "  12.64855217  13.25711366  13.89495494  14.56348478  15.26417967\n",
      "  15.9985872   16.76832937  17.57510625  18.42069969  19.30697729\n",
      "  20.23589648  21.20950888  22.22996483  23.29951811  24.42053095\n",
      "  25.59547923  26.82695795  28.11768698  29.47051703  30.88843596\n",
      "  32.37457543  33.93221772  35.56480306  37.2759372   39.06939937\n",
      "  40.94915062  42.9193426   44.98432669  47.14866363  49.41713361\n",
      "  51.79474679  54.28675439  56.89866029  59.63623317  62.50551925\n",
      "  65.51285569  68.6648845   71.9685673   75.43120063  79.06043211\n",
      "  82.86427729  86.85113738  91.0298178   95.40954763 100.        ]\n",
      "\n",
      "\n",
      "[[ 0.91036014  0.13962175 -0.18498808 ... -0.51950464  0.11224953\n",
      "   1.44389543]\n",
      " [ 0.13962175  1.13814469  0.58106893 ... -0.73336607 -1.06811006\n",
      "   0.77751818]\n",
      " [-0.18498808  0.58106893  0.37018393 ... -0.25117717 -0.61511103\n",
      "   0.01006242]\n",
      " ...\n",
      " [-0.51950464 -0.73336607 -0.25117717 ...  0.67910358  0.57125027\n",
      "  -1.1494712 ]\n",
      " [ 0.11224953 -1.06811006 -0.61511103 ...  0.57125027  1.06864438\n",
      "  -0.36239458]\n",
      " [ 1.44389543  0.77751818  0.01006242 ... -1.1494712  -0.36239458\n",
      "   2.56701028]]\n",
      "\n",
      "\n",
      "(100, 100)\n",
      "\n",
      "\n",
      "[[ 0.88261485  0.03858661  0.08066576]\n",
      " [ 0.03858661  0.83974948 -0.08855858]\n",
      " [ 0.08066576 -0.08855858  0.95594531]]\n",
      "\n",
      "\n",
      "(3, 3)\n"
     ]
    }
   ],
   "source": [
    "#  init \n",
    "X = np.random.randn(100,3)\n",
    "\n",
    "coVar = np.cov(X)\n",
    "coVar.shape\n",
    "covVarReal = np.cov(X.T)\n",
    "\n",
    "print(x,coVar,coVar.shape,covVarReal,covVarReal.shape,sep=\"\\n\\n\\n\")"
   ]
  },
  {
   "cell_type": "code",
   "execution_count": 33,
   "metadata": {},
   "outputs": [
    {
     "name": "stdout",
     "output_type": "stream",
     "text": [
      "(array([0.74926976, 0.90249568, 1.02654421]), array([[-0.50552236,  0.76749746,  0.39420146],\n",
      "       [ 0.70392723,  0.6310651 , -0.32594984],\n",
      "       [ 0.49893246, -0.11271421,  0.85927988]]))\n",
      "(array([0.74926976, 0.90249568, 1.02654421]), array([[ 0.50552236, -0.76749746,  0.39420146],\n",
      "       [-0.70392723, -0.6310651 , -0.32594984],\n",
      "       [-0.49893246,  0.11271421,  0.85927988]]))\n"
     ]
    }
   ],
   "source": [
    "# eigen\n",
    "eigh = np.linalg.eigh(covVarReal)\n",
    "\n",
    "eig = np.linalg.eig(covVarReal)\n",
    "# the first row is eigen values and next one is eigen matrix\n",
    "print(eigh,eig,sep=\"\\n\")"
   ]
  },
  {
   "cell_type": "markdown",
   "metadata": {},
   "source": [
    "Linear Systems"
   ]
  },
  {
   "cell_type": "code",
   "execution_count": 34,
   "metadata": {},
   "outputs": [
    {
     "name": "stdout",
     "output_type": "stream",
     "text": [
      "[-3.   2.5] [-3.   2.5]\n"
     ]
    }
   ],
   "source": [
    "solu =  np.linalg.inv(M).dot(b)\n",
    "\n",
    "print(solu,np.linalg.solve(M,b))"
   ]
  },
  {
   "cell_type": "markdown",
   "metadata": {},
   "source": [
    "<h1>Linear System example</h1>\n",
    "In the past, I would have set this up by picking a variable for one of the groups (say, \"O\" for \"children\") and then use \"(total) less (what I've already accounted for)\" (in this case, \"2200 – O\") for the other group. Using a system of equations, however, allows me to use two different variables for the two different unknowns.\n",
    "\n",
    "number of adults: K\n",
    "\n",
    "number of children: O\n",
    "\n",
    "With these variables, I can create equations for the totals they've given me:\n",
    "\n",
    "total number: K + O = 2200\n",
    "\n",
    "total income: 4K + 1.5O = 5050"
   ]
  },
  {
   "cell_type": "code",
   "execution_count": 35,
   "metadata": {},
   "outputs": [
    {
     "name": "stdout",
     "output_type": "stream",
     "text": [
      "700.0 1500.0 [ 700. 1500.]\n"
     ]
    }
   ],
   "source": [
    "m1 =  np.array([[1,1],[4,1.5]])\n",
    "m2 =  np.array([2200,5050])\n",
    "k,o =  np.linalg.solve(m1,m2)\n",
    "print(k,o,np.linalg.solve(m1,m2))"
   ]
  },
  {
   "cell_type": "markdown",
   "metadata": {},
   "source": [
    "<h1>Multi variate noraml</h1>"
   ]
  },
  {
   "cell_type": "code",
   "execution_count": 38,
   "metadata": {},
   "outputs": [
    {
     "name": "stderr",
     "output_type": "stream",
     "text": [
      "C:\\ProgramData\\Anaconda3\\lib\\site-packages\\ipykernel_launcher.py:1: RuntimeWarning: covariance is not positive-semidefinite.\n",
      "  \"\"\"Entry point for launching an IPython kernel.\n"
     ]
    }
   ],
   "source": [
    "r =  np.random.multivariate_normal(mean =  np.array([0,2]),cov =np.array([[1,0.8],[.08,3]]),size =1000)\n"
   ]
  },
  {
   "cell_type": "code",
   "execution_count": 40,
   "metadata": {},
   "outputs": [
    {
     "ename": "NameError",
     "evalue": "name 'plt' is not defined",
     "output_type": "error",
     "traceback": [
      "\u001b[1;31m---------------------------------------------------------------------------\u001b[0m",
      "\u001b[1;31mNameError\u001b[0m                                 Traceback (most recent call last)",
      "\u001b[1;32m<ipython-input-40-270be007577c>\u001b[0m in \u001b[0;36m<module>\u001b[1;34m()\u001b[0m\n\u001b[1;32m----> 1\u001b[1;33m \u001b[0mplt\u001b[0m\u001b[1;33m.\u001b[0m\u001b[0mscatter\u001b[0m\u001b[1;33m(\u001b[0m\u001b[0mr\u001b[0m\u001b[1;33m[\u001b[0m\u001b[1;33m:\u001b[0m\u001b[1;33m,\u001b[0m\u001b[1;36m0\u001b[0m\u001b[1;33m]\u001b[0m\u001b[1;33m,\u001b[0m\u001b[0mm_r\u001b[0m\u001b[1;33m[\u001b[0m\u001b[1;33m:\u001b[0m\u001b[1;33m,\u001b[0m\u001b[1;36m1\u001b[0m\u001b[1;33m]\u001b[0m\u001b[1;33m)\u001b[0m\u001b[1;33m\u001b[0m\u001b[0m\n\u001b[0m\u001b[0;32m      2\u001b[0m \u001b[0mplt\u001b[0m\u001b[1;33m.\u001b[0m\u001b[0maxis\u001b[0m\u001b[1;33m(\u001b[0m\u001b[1;34m'equal'\u001b[0m\u001b[1;33m)\u001b[0m\u001b[1;33m\u001b[0m\u001b[0m\n\u001b[0;32m      3\u001b[0m \u001b[0mplt\u001b[0m\u001b[1;33m.\u001b[0m\u001b[0mshow\u001b[0m\u001b[1;33m(\u001b[0m\u001b[1;33m)\u001b[0m\u001b[1;33m\u001b[0m\u001b[0m\n",
      "\u001b[1;31mNameError\u001b[0m: name 'plt' is not defined"
     ]
    }
   ],
   "source": [
    "plt.scatter(r[:,0],[:,1])\n",
    "plt.axis('equal')\n",
    "plt.show()"
   ]
  }
 ],
 "metadata": {
  "kernelspec": {
   "display_name": "Python 3",
   "language": "python",
   "name": "python3"
  },
  "language_info": {
   "codemirror_mode": {
    "name": "ipython",
    "version": 3
   },
   "file_extension": ".py",
   "mimetype": "text/x-python",
   "name": "python",
   "nbconvert_exporter": "python",
   "pygments_lexer": "ipython3",
   "version": "3.6.4"
  }
 },
 "nbformat": 4,
 "nbformat_minor": 2
}
