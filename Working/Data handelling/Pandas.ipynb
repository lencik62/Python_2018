{
 "cells": [
  {
   "cell_type": "code",
   "execution_count": 1,
   "metadata": {},
   "outputs": [],
   "source": [
    "from pandas import DataFrame\n",
    "from pandas import Series\n",
    "import numpy as np"
   ]
  },
  {
   "cell_type": "markdown",
   "metadata": {},
   "source": [
    "<h1>Loading Data</h1>"
   ]
  },
  {
   "cell_type": "code",
   "execution_count": 2,
   "metadata": {},
   "outputs": [
    {
     "name": "stdout",
     "output_type": "stream",
     "text": [
      "<class 'pandas.core.frame.DataFrame'>\n",
      "RangeIndex: 100 entries, 0 to 99\n",
      "Data columns (total 3 columns):\n",
      "0    100 non-null float64\n",
      "1    100 non-null float64\n",
      "2    100 non-null float64\n",
      "dtypes: float64(3)\n",
      "memory usage: 2.4 KB\n",
      "None\n"
     ]
    }
   ],
   "source": [
    "import pandas as pd\n",
    "\n",
    "path=\"\"\n",
    "# skip that last 0 rows does not work with the default engine\n",
    "dataCSV= pd.read_csv(\"data_2d.csv\",header=None,engine =\"python\",skipfooter =0)\n",
    "print(dataCSV.info())"
   ]
  },
  {
   "cell_type": "code",
   "execution_count": 3,
   "metadata": {},
   "outputs": [
    {
     "name": "stdout",
     "output_type": "stream",
     "text": [
      "<class 'pandas.core.frame.DataFrame'>\n",
      "RangeIndex: 100 entries, 0 to 99\n",
      "Data columns (total 3 columns):\n",
      "Author    100 non-null object\n",
      "Quote     100 non-null object\n",
      "Tags      100 non-null object\n",
      "dtypes: object(3)\n",
      "memory usage: 2.4+ KB\n",
      "None\n",
      "              Author                                              Quote  \\\n",
      "0  [ALBERT EINSTEIN]  [The world as we have created it is a process ...   \n",
      "1     [J.K. ROWLING]  [It is our choices, Harry, that show what we t...   \n",
      "2  [ALBERT EINSTEIN]  [There are only two ways to live your life. On...   \n",
      "3      [JANE AUSTEN]  [The person, be it gentleman or lady, who has ...   \n",
      "4   [MARILYN MONROE]  [Imperfection is beauty, madness is genius and...   \n",
      "\n",
      "                                         Tags  \n",
      "0       [change,deep-thoughts,thinking,world]  \n",
      "1                         [abilities,choices]  \n",
      "2  [inspirational,life,live,miracle,miracles]  \n",
      "3             [aliteracy,books,classic,humor]  \n",
      "4                 [be-yourself,inspirational]  \n"
     ]
    }
   ],
   "source": [
    "dataJSON= pd.read_json(\"CssOutput.json\")\n",
    "print(dataJSON.info())\n",
    "print(dataJSON.head(5))"
   ]
  },
  {
   "cell_type": "code",
   "execution_count": 4,
   "metadata": {},
   "outputs": [
    {
     "name": "stdout",
     "output_type": "stream",
     "text": [
      "                                                                 Quote  \\\n",
      "Author                                                                   \n",
      "[ALBERT EINSTEIN]    [The world as we have created it is a process ...   \n",
      "[J.K. ROWLING]       [It is our choices, Harry, that show what we t...   \n",
      "[ALBERT EINSTEIN]    [There are only two ways to live your life. On...   \n",
      "[JANE AUSTEN]        [The person, be it gentleman or lady, who has ...   \n",
      "[MARILYN MONROE]     [Imperfection is beauty, madness is genius and...   \n",
      "[ALBERT EINSTEIN]    [Try not to become a man of success. Rather be...   \n",
      "[ANDRÉ GIDE]         [It is better to be hated for what you are tha...   \n",
      "[THOMAS A. EDISON]   [I have not failed. I've just found 10,000 way...   \n",
      "[ELEANOR ROOSEVELT]  [A woman is like a tea bag; you never know how...   \n",
      "[STEVE MARTIN]       [A day without sunshine is like, you know, nig...   \n",
      "\n",
      "                                                           Tags  \n",
      "Author                                                           \n",
      "[ALBERT EINSTEIN]         [change,deep-thoughts,thinking,world]  \n",
      "[J.K. ROWLING]                              [abilities,choices]  \n",
      "[ALBERT EINSTEIN]    [inspirational,life,live,miracle,miracles]  \n",
      "[JANE AUSTEN]                   [aliteracy,books,classic,humor]  \n",
      "[MARILYN MONROE]                    [be-yourself,inspirational]  \n",
      "[ALBERT EINSTEIN]                     [adulthood,success,value]  \n",
      "[ANDRÉ GIDE]                                        [life,love]  \n",
      "[THOMAS A. EDISON]   [edison,failure,inspirational,paraphrased]  \n",
      "[ELEANOR ROOSEVELT]           [misattributed-eleanor-roosevelt]  \n",
      "[STEVE MARTIN]                           [humor,obvious,simile]  \n"
     ]
    }
   ],
   "source": [
    "# choseing your index\n",
    "temp = dataJSON.head(10)\n",
    "temp = temp.set_index('Author')\n",
    "print(temp)"
   ]
  },
  {
   "cell_type": "code",
   "execution_count": 5,
   "metadata": {},
   "outputs": [],
   "source": [
    "# dataEXCEL= pd.read_excel(path)"
   ]
  },
  {
   "cell_type": "markdown",
   "metadata": {},
   "source": [
    "<h1>DataFrame</h1>"
   ]
  },
  {
   "cell_type": "code",
   "execution_count": 6,
   "metadata": {},
   "outputs": [
    {
     "name": "stdout",
     "output_type": "stream",
     "text": [
      "   Age     Name  Salary\n",
      "0   34      Rob    1000\n",
      "1   28    Bucky    5000\n",
      "2   23  Onizuka       2\n"
     ]
    }
   ],
   "source": [
    "spacer='\\n'+'='*125+\"\\n\\n\\n\\n\\n\"\n",
    "\n",
    "data={\"Name\":[\"Rob\",\"Bucky\",\"Onizuka\"]\n",
    ",\"Age\":[34,28,23]\n",
    ",\"Salary\":[1000,5000,2]}\n",
    "\n",
    "data=DataFrame(data)\n",
    "print(data)\n"
   ]
  },
  {
   "cell_type": "code",
   "execution_count": 7,
   "metadata": {},
   "outputs": [
    {
     "name": "stdout",
     "output_type": "stream",
     "text": [
      "\n",
      "=============================================================================================================================\n",
      "\n",
      "\n",
      "\n",
      "\n",
      "    Salary     Name  Age\n",
      "0    1000      Rob   34\n",
      "1    5000    Bucky   28\n",
      "2       2  Onizuka   23\n",
      "\n",
      "=============================================================================================================================\n",
      "\n",
      "\n",
      "\n",
      "\n",
      "    Salary     Name  Nationailty  Age\n",
      "0    1000      Rob          NaN   34\n",
      "1    5000    Bucky          NaN   28\n",
      "2       2  Onizuka          NaN   23\n"
     ]
    }
   ],
   "source": [
    "# data\n",
    "\n",
    "\n",
    "New_frame=DataFrame(data=data, columns=[\"Salary\",\"Name\",\"Age\"])\n",
    "print(spacer,New_frame)\n",
    "New_frame=DataFrame(data=data, columns=[\"Salary\",\"Name\",\"Nationailty\",\"Age\"])\n",
    "print(spacer,New_frame)\n"
   ]
  },
  {
   "cell_type": "markdown",
   "metadata": {},
   "source": [
    "<h2>Columns title</h2>"
   ]
  },
  {
   "cell_type": "code",
   "execution_count": 8,
   "metadata": {},
   "outputs": [
    {
     "name": "stdout",
     "output_type": "stream",
     "text": [
      "['Author' 'Quote' 'Tags']\n",
      "['BY' 'Quote' 'About']\n"
     ]
    }
   ],
   "source": [
    "print(dataJSON.columns.values)\n",
    "dataJSON.columns = ['BY', 'Quote', 'About']\n",
    "print(dataJSON.columns.values)\n"
   ]
  },
  {
   "cell_type": "code",
   "execution_count": 9,
   "metadata": {},
   "outputs": [
    {
     "name": "stdout",
     "output_type": "stream",
     "text": [
      "\n",
      "=============================================================================================================================\n",
      "\n",
      "\n",
      "\n",
      "\n",
      " 0    1000\n",
      "1    5000\n",
      "2       2\n",
      "Name: Salary, dtype: int64\n",
      "\n",
      "=============================================================================================================================\n",
      "\n",
      "\n",
      "\n",
      "\n",
      " Salary               2\n",
      "Name           Onizuka\n",
      "Nationailty        NaN\n",
      "Age                 23\n",
      "Name: 2, dtype: object\n",
      "0     17.930201\n",
      "1     94.520592\n",
      "2    320.259530\n",
      "Name: 0, dtype: float64\n",
      "           0          1           2\n",
      "5   3.192702  29.256299   94.618811\n",
      "44  3.593966  96.252217  293.237183\n",
      "54  4.593463  46.335932  145.818745\n",
      "90  1.382983  84.944087  252.905653\n",
      "99  4.142669  52.254726  168.034401\n"
     ]
    }
   ],
   "source": [
    "# acess and splicing and splitting\n",
    "############################################\n",
    "# row or ix[] iloc []\n",
    "print(spacer,New_frame[\"Salary\"])\n",
    "print(spacer,New_frame.iloc[2])# ix is refering to x axis\n",
    "\n",
    "#  getting the first row\n",
    "# print(dataCSV.ix[0]) # derepc\n",
    "print(dataCSV.iloc[0])\n",
    "\n",
    "#  getting data form all the rows where 1st value is less that 5\n",
    "print(dataCSV[dataCSV[0]<5])\n",
    "# "
   ]
  },
  {
   "cell_type": "code",
   "execution_count": 10,
   "metadata": {},
   "outputs": [
    {
     "name": "stdout",
     "output_type": "stream",
     "text": [
      "BY                                       [ALBERT EINSTEIN]\n",
      "Quote    [The world as we have created it is a process ...\n",
      "About                [change,deep-thoughts,thinking,world]\n",
      "Name: 0, dtype: object\n",
      "           Address           City Country  Employees  ID         Name  \\\n",
      "0     3666 21st St  San Francisco     USA          8   1      Madeira   \n",
      "1   735 Dolores St  San Francisco     USA         15   2  Bready Shop   \n",
      "2      332 Hill St  San Francisco     USA         25   3  Super River   \n",
      "3     3995 23rd St  San Francisco     USA         10   4   Ben's Shop   \n",
      "4  1056 Sanchez St  San Francisco     USA         12   5      Sanchez   \n",
      "\n",
      "              State  \n",
      "0          CA 94114  \n",
      "1          CA 94119  \n",
      "2  California 94114  \n",
      "3          CA 94114  \n",
      "4        California   \n",
      "\n",
      "\n",
      "\n",
      "\n",
      "\n",
      "\n",
      "               Country  Employees  ID\n",
      "Address                              \n",
      "735 Dolores St     USA         15   2\n",
      "332 Hill St        USA         25   3\n",
      "=============================================================================================================================\n",
      "\n",
      "\n",
      "\n",
      "\n",
      "                Country  Employees  ID\n",
      "Address                               \n",
      "3666 21st St        USA          8   1\n",
      "735 Dolores St      USA         15   2\n",
      "332 Hill St         USA         25   3\n",
      "3995 23rd St        USA         10   4\n",
      "1056 Sanchez St     USA         12   5\n",
      "551 Alvarado St     USA         20   6\n",
      "=============================================================================================================================\n",
      "\n",
      "\n",
      "\n",
      "\n",
      "Address\n",
      "3666 21st St       USA\n",
      "735 Dolores St     USA\n",
      "332 Hill St        USA\n",
      "3995 23rd St       USA\n",
      "1056 Sanchez St    USA\n",
      "551 Alvarado St    USA\n",
      "Name: Country, dtype: object\n",
      "============================================================================================================================= \n",
      "                Country  Employees\n",
      "Address                          \n",
      "3666 21st St       USA          8\n",
      "735 Dolores St     USA         15\n",
      "332 Hill St        USA         25\n",
      "\n",
      "\n",
      " Ben's Shop\n"
     ]
    },
    {
     "name": "stderr",
     "output_type": "stream",
     "text": [
      "C:\\ProgramData\\Anaconda3\\lib\\site-packages\\ipykernel_launcher.py:10: DeprecationWarning: \n",
      ".ix is deprecated. Please use\n",
      ".loc for label based indexing or\n",
      ".iloc for positional indexing\n",
      "\n",
      "See the documentation here:\n",
      "http://pandas.pydata.org/pandas-docs/stable/indexing.html#ix-indexer-is-deprecated\n",
      "  # Remove the CWD from sys.path while we load stuff.\n"
     ]
    }
   ],
   "source": [
    "print(dataJSON.loc[0])\n",
    "#  getting certain index / rows/ colunms\n",
    "tempJson = pd.read_json(\"supermarkets.json\")\n",
    "print(tempJson.head(),\"\\n\\n\\n\\n\\n\\n\")\n",
    "tempJson = tempJson.set_index(\"Address\")\n",
    "# selection by label.\n",
    "print(tempJson.loc['735 Dolores St':'332 Hill St','Country':'ID'],tempJson.loc[:,'Country':'ID'],tempJson.loc[:,'Country'],sep=spacer)\n",
    "# location based indexing for selection by position.\n",
    "print('='*125,\"\\n\",tempJson.iloc[0:3,1:3])\n",
    "print('\\n\\n',tempJson.ix[3,'Name'])"
   ]
  },
  {
   "cell_type": "code",
   "execution_count": 11,
   "metadata": {},
   "outputs": [
    {
     "name": "stdout",
     "output_type": "stream",
     "text": [
      "   Salary     Name  Nationailty  Age\n",
      "0    1000      Rob          NaN   34\n",
      "1    5000    Bucky          NaN   28\n",
      "2       2  Onizuka          NaN   23\n",
      "   Salary     Name  Nationailty  Age EDU.LVL.\n",
      "0    1000      Rob          NaN   34       MS\n",
      "1    5000    Bucky          NaN   28       MS\n",
      "2       2  Onizuka          NaN   23       MS\n",
      "=============================================================================================================================\n",
      "\n",
      "\n",
      "\n",
      "\n",
      "\n",
      "                0      1        2\n",
      "Salary       1000   5000        2\n",
      "Name          Rob  Bucky  Onizuka\n",
      "Nationailty   NaN    NaN      NaN\n",
      "Age            34     28       23\n",
      "EDU.LVL.       MS     MS       MS\n",
      "=============================================================================================================================\n",
      "\n",
      "\n",
      "\n",
      "\n",
      "\n",
      "  Salary     Name Nationailty Age EDU.LVL.\n",
      "0   1000      Rob         NaN  34       MS\n",
      "1   5000    Bucky         NaN  28       MS\n",
      "2      2  Onizuka         NaN  23       MS\n",
      "=============================================================================================================================\n",
      "\n",
      "\n",
      "\n",
      "\n",
      "\n"
     ]
    }
   ],
   "source": [
    "print(New_frame)\n",
    "\n",
    "New_frame[\"EDU.LVL.\"]=\"MS\"\n",
    "print(New_frame,\"\",sep=spacer)\n",
    "### Transposing\n",
    "New_frame=New_frame.T\n",
    "print(New_frame,\"\",sep=spacer)\n",
    "\n",
    "New_frame=New_frame.T\n",
    "# New_frame.reindex([0,2,1])\n",
    "#\n",
    "# fields=[\"Alpha\",\"Beta\",\"Gamma\"]\n",
    "#\n",
    "# New_frame=New_frame.reindex(columns=fields)\n",
    "# drops a row\n",
    "print(New_frame,\"\",sep=spacer)\n",
    "\n",
    "New_frame=New_frame.drop([2,0])# a list\n",
    "\n"
   ]
  },
  {
   "cell_type": "code",
   "execution_count": null,
   "metadata": {},
   "outputs": [],
   "source": [
    "# for droping  a col\n",
    "\n",
    "New_frame=New_frame.drop(\"Nationailty\",axis=1)\n",
    "print(New_frame)"
   ]
  },
  {
   "cell_type": "code",
   "execution_count": 41,
   "metadata": {},
   "outputs": [
    {
     "name": "stdout",
     "output_type": "stream",
     "text": [
      "                          City Country  Employees  ID         Name  \\\n",
      "Address                                                              \n",
      "3666 21st St     San Francisco     USA          8   1      Madeira   \n",
      "735 Dolores St   San Francisco     USA         15   2  Bready Shop   \n",
      "332 Hill St      San Francisco     USA         25   3  Super River   \n",
      "3995 23rd St     San Francisco     USA         10   4   Ben's Shop   \n",
      "1056 Sanchez St  San Francisco     USA         12   5      Sanchez   \n",
      "551 Alvarado St  San Francisco     USA         20   6   Richvalley   \n",
      "\n",
      "                            State  \n",
      "Address                            \n",
      "3666 21st St             CA 94114  \n",
      "735 Dolores St           CA 94119  \n",
      "332 Hill St      California 94114  \n",
      "3995 23rd St             CA 94114  \n",
      "1056 Sanchez St        California  \n",
      "551 Alvarado St          CA 94114  \n",
      "=============================================================================================================================\n",
      "\n",
      "\n",
      "\n",
      "\n",
      "                          City Country  Employees  ID         Name       State\n",
      "Address                                                                       \n",
      "3666 21st St     San Francisco     USA          8   1      Madeira    CA 94114\n",
      "735 Dolores St   San Francisco     USA         15   2  Bready Shop    CA 94119\n",
      "3995 23rd St     San Francisco     USA         10   4   Ben's Shop    CA 94114\n",
      "1056 Sanchez St  San Francisco     USA         12   5      Sanchez  California\n",
      "551 Alvarado St  San Francisco     USA         20   6   Richvalley    CA 94114\n",
      "=============================================================================================================================\n",
      "\n",
      "\n",
      "\n",
      "\n",
      "                          City Country  Employees  ID         Name       State\n",
      "Address                                                                       \n",
      "3666 21st St     San Francisco     USA          8   1      Madeira    CA 94114\n",
      "735 Dolores St   San Francisco     USA         15   2  Bready Shop    CA 94119\n",
      "3995 23rd St     San Francisco     USA         10   4   Ben's Shop    CA 94114\n",
      "1056 Sanchez St  San Francisco     USA         12   5      Sanchez  California\n",
      "551 Alvarado St  San Francisco     USA         20   6   Richvalley    CA 94114\n",
      "=============================================================================================================================\n",
      "\n",
      "\n",
      "\n",
      "\n",
      "                          City Country  Employees  ID        Name       State\n",
      "Address                                                                      \n",
      "3995 23rd St     San Francisco     USA         10   4  Ben's Shop    CA 94114\n",
      "1056 Sanchez St  San Francisco     USA         12   5     Sanchez  California\n",
      "551 Alvarado St  San Francisco     USA         20   6  Richvalley    CA 94114\n",
      "=============================================================================================================================\n",
      "\n",
      "\n",
      "\n",
      "\n",
      "                          City Country  Employees  ID        Name       State\n",
      "Address                                                                      \n",
      "3995 23rd St     San Francisco     USA         10   4  Ben's Shop    CA 94114\n",
      "1056 Sanchez St  San Francisco     USA         12   5     Sanchez  California\n",
      "551 Alvarado St  San Francisco     USA         20   6  Richvalley    CA 94114\n",
      "=============================================================================================================================\n",
      "\n",
      "\n",
      "\n",
      "\n",
      "                 ID         Name             State\n",
      "Address                                           \n",
      "3666 21st St      1      Madeira          CA 94114\n",
      "735 Dolores St    2  Bready Shop          CA 94119\n",
      "332 Hill St       3  Super River  California 94114\n",
      "3995 23rd St      4   Ben's Shop          CA 94114\n",
      "1056 Sanchez St   5      Sanchez        California\n",
      "551 Alvarado St   6   Richvalley          CA 94114\n"
     ]
    }
   ],
   "source": [
    "print(\n",
    "    tempJson,tempJson.drop('332 Hill St'),\n",
    "    tempJson.drop('332 Hill St',0),\n",
    "    tempJson.drop(tempJson.index[0:3]),\n",
    "    tempJson.drop(tempJson.index[0:3],0),    \n",
    "    tempJson.drop(tempJson.columns[0:3],1),\n",
    "\n",
    "    \n",
    "    sep=spacer)\n"
   ]
  },
  {
   "cell_type": "code",
   "execution_count": 43,
   "metadata": {},
   "outputs": [
    {
     "data": {
      "text/html": [
       "<div>\n",
       "<style scoped>\n",
       "    .dataframe tbody tr th:only-of-type {\n",
       "        vertical-align: middle;\n",
       "    }\n",
       "\n",
       "    .dataframe tbody tr th {\n",
       "        vertical-align: top;\n",
       "    }\n",
       "\n",
       "    .dataframe thead th {\n",
       "        text-align: right;\n",
       "    }\n",
       "</style>\n",
       "<table border=\"1\" class=\"dataframe\">\n",
       "  <thead>\n",
       "    <tr style=\"text-align: right;\">\n",
       "      <th></th>\n",
       "      <th>City</th>\n",
       "      <th>Country</th>\n",
       "      <th>Employees</th>\n",
       "      <th>ID</th>\n",
       "      <th>Name</th>\n",
       "      <th>State</th>\n",
       "      <th>Continent</th>\n",
       "    </tr>\n",
       "    <tr>\n",
       "      <th>Address</th>\n",
       "      <th></th>\n",
       "      <th></th>\n",
       "      <th></th>\n",
       "      <th></th>\n",
       "      <th></th>\n",
       "      <th></th>\n",
       "      <th></th>\n",
       "    </tr>\n",
       "  </thead>\n",
       "  <tbody>\n",
       "    <tr>\n",
       "      <th>3666 21st St</th>\n",
       "      <td>San Francisco</td>\n",
       "      <td>USA</td>\n",
       "      <td>8</td>\n",
       "      <td>1</td>\n",
       "      <td>Madeira</td>\n",
       "      <td>CA 94114</td>\n",
       "      <td>North America</td>\n",
       "    </tr>\n",
       "    <tr>\n",
       "      <th>735 Dolores St</th>\n",
       "      <td>San Francisco</td>\n",
       "      <td>USA</td>\n",
       "      <td>15</td>\n",
       "      <td>2</td>\n",
       "      <td>Bready Shop</td>\n",
       "      <td>CA 94119</td>\n",
       "      <td>North America</td>\n",
       "    </tr>\n",
       "    <tr>\n",
       "      <th>332 Hill St</th>\n",
       "      <td>San Francisco</td>\n",
       "      <td>USA</td>\n",
       "      <td>25</td>\n",
       "      <td>3</td>\n",
       "      <td>Super River</td>\n",
       "      <td>California 94114</td>\n",
       "      <td>North America</td>\n",
       "    </tr>\n",
       "    <tr>\n",
       "      <th>3995 23rd St</th>\n",
       "      <td>San Francisco</td>\n",
       "      <td>USA</td>\n",
       "      <td>10</td>\n",
       "      <td>4</td>\n",
       "      <td>Ben's Shop</td>\n",
       "      <td>CA 94114</td>\n",
       "      <td>North America</td>\n",
       "    </tr>\n",
       "    <tr>\n",
       "      <th>1056 Sanchez St</th>\n",
       "      <td>San Francisco</td>\n",
       "      <td>USA</td>\n",
       "      <td>12</td>\n",
       "      <td>5</td>\n",
       "      <td>Sanchez</td>\n",
       "      <td>California</td>\n",
       "      <td>North America</td>\n",
       "    </tr>\n",
       "    <tr>\n",
       "      <th>551 Alvarado St</th>\n",
       "      <td>San Francisco</td>\n",
       "      <td>USA</td>\n",
       "      <td>20</td>\n",
       "      <td>6</td>\n",
       "      <td>Richvalley</td>\n",
       "      <td>CA 94114</td>\n",
       "      <td>North America</td>\n",
       "    </tr>\n",
       "  </tbody>\n",
       "</table>\n",
       "</div>"
      ],
      "text/plain": [
       "                          City Country  Employees  ID         Name  \\\n",
       "Address                                                              \n",
       "3666 21st St     San Francisco     USA          8   1      Madeira   \n",
       "735 Dolores St   San Francisco     USA         15   2  Bready Shop   \n",
       "332 Hill St      San Francisco     USA         25   3  Super River   \n",
       "3995 23rd St     San Francisco     USA         10   4   Ben's Shop   \n",
       "1056 Sanchez St  San Francisco     USA         12   5      Sanchez   \n",
       "551 Alvarado St  San Francisco     USA         20   6   Richvalley   \n",
       "\n",
       "                            State      Continent  \n",
       "Address                                           \n",
       "3666 21st St             CA 94114  North America  \n",
       "735 Dolores St           CA 94119  North America  \n",
       "332 Hill St      California 94114  North America  \n",
       "3995 23rd St             CA 94114  North America  \n",
       "1056 Sanchez St        California  North America  \n",
       "551 Alvarado St          CA 94114  North America  "
      ]
     },
     "execution_count": 43,
     "metadata": {},
     "output_type": "execute_result"
    }
   ],
   "source": [
    "# add new rows and colum or data \n",
    "# new colunm\n",
    "tempJson['Continent'] = tempJson.shape[0] * ['North America']\n"
   ]
  },
  {
   "cell_type": "code",
   "execution_count": 13,
   "metadata": {},
   "outputs": [
    {
     "name": "stdout",
     "output_type": "stream",
     "text": [
      "   Humidity  Speed  Temp\n",
      "0       NaN    211    89\n",
      "1       NaN    303    76\n",
      "2       NaN    190    60\n",
      "   Speed  Temp\n",
      "0  10000  1156\n",
      "1  10609   529\n",
      "2  11025  3025\n",
      "   Speed  Temp\n",
      "0    102    36\n",
      "1    105    25\n",
      "2    107    57\n",
      "   Speed  Temp\n",
      "0      1     1\n",
      "1      1     2\n",
      "2      0     1\n",
      "   Humidity                Speed                 Temp\n",
      "0       NaN                    0  4071254063142928384\n",
      "1       NaN  1207163699033777601  2688227151811855479\n",
      "2       NaN  6147008343355840265            503284375\n",
      "   Speed  Temp   0   1   2\n",
      "0    NaN   NaN NaN NaN NaN\n",
      "1    NaN   NaN NaN NaN NaN\n",
      "2    NaN   NaN NaN NaN NaN\n",
      "   Humidity  Speed  Temp\n",
      "0       NaN    100   102\n",
      "1       NaN    103    69\n",
      "2       NaN    105   165\n",
      "   Humidity  Speed  Temp\n",
      "0       NaN    101    37\n",
      "1       NaN    104    26\n",
      "2       NaN    106    58\n",
      "   Humidity  Speed  Temp\n",
      "0        47    112    58\n",
      "1        57    201    56\n",
      "2       101     86     8\n"
     ]
    }
   ],
   "source": [
    "\n",
    "\n",
    "\n",
    "## Arithmetic operations\n",
    "\n",
    "data1=DataFrame({\"Speed\":[100,103,105]\n",
    ",\"Temp\":[34,23,55]\n",
    "})\n",
    "\n",
    "data2=DataFrame({\"Speed\":[111,200,85]\n",
    ",\"Temp\":[55,53,5],\n",
    "\"Humidity\":[45,55,99]\n",
    "})\n",
    "Seris=Series([1,2,3])\n",
    "Seris1=Series([1,2,3],index=[\"Speed\",\"Humidity\",\"Temp\"])\n",
    "\n",
    "\n",
    "print(data1+data2)\n",
    "print(data1**2)\n",
    "print(data1+2)\n",
    "print(data1%3)\n",
    "print(data1**data2)\n",
    "print(Seris*data1)\n",
    "print(Seris1*data1)\n",
    "print(Seris1+data1)\n",
    "print(Seris1+data2)\n"
   ]
  },
  {
   "cell_type": "code",
   "execution_count": 14,
   "metadata": {},
   "outputs": [
    {
     "name": "stdout",
     "output_type": "stream",
     "text": [
      "   Speed  Temp\n",
      "0    100    34\n",
      "1    103    23\n",
      "2    105    55\n",
      "   Speed  Temp\n",
      "1    103    23\n",
      "0    100    34\n",
      "2    105    55\n",
      "   Speed  Temp\n",
      "0    100    34\n",
      "1    103    23\n",
      "2    105    55\n",
      "   Speed  Temp\n",
      "0    100    34\n",
      "1    103    23\n",
      "2    105    55\n"
     ]
    }
   ],
   "source": [
    "\n",
    "##sorting\n",
    "print(data1.sort_index())\n",
    "print(data1.sort_values(\"Temp\"))\n",
    "print(data1.sort_values(by=\"Speed\"))\n",
    "print(data1.sort_index(axis=1))\n"
   ]
  },
  {
   "cell_type": "code",
   "execution_count": 15,
   "metadata": {},
   "outputs": [
    {
     "name": "stdout",
     "output_type": "stream",
     "text": [
      "   Speed  Temp\n",
      "0    100    34\n",
      "1    103    23\n",
      "2    105    55 \n",
      "=============================================================================================================================\n",
      "\n",
      "\n",
      "\n",
      "\n",
      "\n",
      "0    134\n",
      "1    126\n",
      "2    160\n",
      "dtype: int64\n",
      "Humidity     99\n",
      "Speed       200\n",
      "Temp         55\n",
      "dtype: int64\n",
      "Humidity    2\n",
      "Speed       1\n",
      "Temp        0\n",
      "dtype: int64\n"
     ]
    }
   ],
   "source": [
    "\n",
    "# maj math\n",
    "print(data1,spacer)\n",
    "print(data1.sum(axis=1))\n",
    "print(data2.max())\n",
    "print(data2.idxmax())\n"
   ]
  },
  {
   "cell_type": "code",
   "execution_count": 16,
   "metadata": {},
   "outputs": [
    {
     "name": "stdout",
     "output_type": "stream",
     "text": [
      "   Speed  Temp\n",
      "0  100.0  34.0\n",
      "1    NaN   NaN\n",
      "2  105.0  55.0\n",
      "   Speed  Temp\n",
      "0  100.0  34.0\n",
      "2  105.0  55.0\n",
      "   Speed   Temp\n",
      "0  100.0   34.0\n",
      "1  100.0  100.0\n",
      "2  105.0   55.0\n"
     ]
    }
   ],
   "source": [
    "\n",
    "\n",
    "# np.nan droping\n",
    "data1=DataFrame({\"Speed\":[100,np.nan,105]\n",
    ",\"Temp\":[34,np.nan,55]\n",
    "})\n",
    "\n",
    "data2=DataFrame({\"Speed\":[111,200,85]\n",
    ",\"Temp\":[55,53,5],\n",
    "\"Humidity\":[45,55,99]\n",
    "})\n",
    "\n",
    "print(data1)\n",
    "print(data1.dropna())\n",
    "\n",
    "data1=DataFrame({\"Speed\":[100,np.nan,105]\n",
    ",\"Temp\":[34,np.nan,55]\n",
    "})\n",
    "\n",
    "print(data1.fillna(100))"
   ]
  },
  {
   "cell_type": "markdown",
   "metadata": {},
   "source": [
    "<h1>Series</h1>"
   ]
  },
  {
   "cell_type": "code",
   "execution_count": 17,
   "metadata": {},
   "outputs": [],
   "source": [
    "# init\n",
    "from pandas import Series\n",
    "se= Series([1,2,3,4,5,6])\n"
   ]
  },
  {
   "cell_type": "code",
   "execution_count": 18,
   "metadata": {},
   "outputs": [
    {
     "name": "stdout",
     "output_type": "stream",
     "text": [
      "0    1\n",
      "1    2\n",
      "2    3\n",
      "3    4\n",
      "4    5\n",
      "5    6\n",
      "dtype: int64 1 4\n",
      "0    100\n",
      "1    110\n",
      "2    120\n",
      "5    130\n",
      "dtype: int64\n",
      "0    100\n",
      "a    110\n",
      "2    120\n",
      "5    130\n",
      "dtype: int64\n",
      "100\n",
      "110\n"
     ]
    }
   ],
   "source": [
    "print(se,se[0],se[3],)\n",
    "\n",
    "s2=Series([100,110,120,130],index=[0,1,2,5])\n",
    "print(s2)\n",
    "s2=Series([100,110,120,130],index=[0,\"a\",2,5])\n",
    "print(s2,s2[0],s2[\"a\"],sep = \"\\n\")\n"
   ]
  },
  {
   "cell_type": "code",
   "execution_count": 19,
   "metadata": {},
   "outputs": [
    {
     "name": "stdout",
     "output_type": "stream",
     "text": [
      "Albert       81000\n",
      "Bill      83213000\n",
      "Carry         7000\n",
      "Mat           8000\n",
      "dtype: int64\n"
     ]
    }
   ],
   "source": [
    "\n",
    "salaries ={\"Albert\":81000,\"Mat\":8000,\"Bill\":83213000,\"Carry\":7000}\n",
    "\n",
    "NewSalaries=Series(salaries)\n",
    "\n",
    "print(NewSalaries)\n",
    "\n"
   ]
  },
  {
   "cell_type": "code",
   "execution_count": 20,
   "metadata": {},
   "outputs": [
    {
     "name": "stdout",
     "output_type": "stream",
     "text": [
      "a    100\n",
      "b    200\n",
      "c    300\n",
      "d    400\n",
      "e    500\n",
      "f    600\n",
      "dtype: int64\n",
      "f    600\n",
      "a    100\n",
      "b    200\n",
      "c    300\n",
      "d    400\n",
      "e    500\n",
      "dtype: int64\n"
     ]
    }
   ],
   "source": [
    "S= Series(data=[100,200,300,400,500,600], index=[\"a\",\"b\",\"c\",\"d\",\"e\",\"f\"])\n",
    "print(S)\n",
    "\n",
    "S=S.reindex([\"f\",\"a\",\"b\",\"c\",\"d\",\"e\"])\n",
    "print(S)\n"
   ]
  },
  {
   "cell_type": "code",
   "execution_count": 21,
   "metadata": {},
   "outputs": [
    {
     "name": "stdout",
     "output_type": "stream",
     "text": [
      "0     2\n",
      "1     4\n",
      "2     6\n",
      "3     8\n",
      "4    10\n",
      "5    12\n",
      "6    14\n",
      "dtype: int64\n",
      "0     3.0\n",
      "1     5.0\n",
      "2     7.0\n",
      "3     9.0\n",
      "4    11.0\n",
      "5    13.0\n",
      "6     NaN\n",
      "dtype: float64\n",
      "0     1\n",
      "1     4\n",
      "2     9\n",
      "3    16\n",
      "4    25\n",
      "5    36\n",
      "6    49\n",
      "dtype: int64\n",
      "0     1\n",
      "1     4\n",
      "2     9\n",
      "3    16\n",
      "4    25\n",
      "5    36\n",
      "6    49\n",
      "dtype: int64\n",
      "0     2\n",
      "1     4\n",
      "2     6\n",
      "3     8\n",
      "4    10\n",
      "5    12\n",
      "6    14\n",
      "dtype: int64\n",
      "0   -1\n",
      "1    0\n",
      "2    1\n",
      "3    2\n",
      "4    3\n",
      "5    4\n",
      "6    5\n",
      "dtype: int64\n",
      "0    1\n",
      "1    2\n",
      "2    0\n",
      "3    1\n",
      "4    2\n",
      "5    0\n",
      "6    1\n",
      "dtype: int64\n"
     ]
    }
   ],
   "source": [
    "\n",
    "sAlpha=Series(data=[1,2,3,4,5,6,7])\n",
    "sBeta=Series(data=[2,3,4,5,6,7])\n",
    "\n",
    "print(sAlpha+sAlpha)\n",
    "print(sBeta+sAlpha)\n",
    "print(sAlpha*sAlpha)\n",
    "print(sAlpha**2)\n",
    "print(sAlpha*2)\n",
    "print(sAlpha-2)\n",
    "print(sAlpha%3)"
   ]
  },
  {
   "cell_type": "code",
   "execution_count": 22,
   "metadata": {},
   "outputs": [
    {
     "name": "stdout",
     "output_type": "stream",
     "text": [
      "1      3\n",
      "5      4\n",
      "9     59\n",
      "87     8\n",
      "6      7\n",
      "5     55\n",
      "4      6\n",
      "2     -2\n",
      "dtype: int64\n",
      "1      3\n",
      "2     -2\n",
      "4      6\n",
      "5      4\n",
      "5     55\n",
      "6      7\n",
      "9     59\n",
      "87     8\n",
      "dtype: int64\n",
      "2     -2\n",
      "1      3\n",
      "5      4\n",
      "4      6\n",
      "6      7\n",
      "87     8\n",
      "5     55\n",
      "9     59\n",
      "dtype: int64\n",
      "False\n",
      "688\n"
     ]
    }
   ],
   "source": [
    "##sorting\n",
    "\n",
    "ser=Series([3,4,59,8,7,55,6,-2],index=[1,5,9,87,6,5,4,2])\n",
    "print(ser)\n",
    "print(ser.sort_index())\n",
    "print(ser.sort_values())\n",
    "\n",
    "Sap=Series(data=[100,110,100,155,100,55,68],index=[\"a\",\"b\",\"c\",\"d\",\"d\",\"e\",\"u\"])\n",
    "\n",
    "print(Sap.index.is_unique)\n",
    "print(Sap.sum())\n"
   ]
  },
  {
   "cell_type": "code",
   "execution_count": 23,
   "metadata": {},
   "outputs": [
    {
     "name": "stdout",
     "output_type": "stream",
     "text": [
      "a    1.0\n",
      "b    2.0\n",
      "c    3.0\n",
      "d    4.0\n",
      "e    5.0\n",
      "f    6.0\n",
      "g    7.0\n",
      "h    NaN\n",
      "dtype: float64\n",
      "a    1.0\n",
      "b    2.0\n",
      "c    3.0\n",
      "d    4.0\n",
      "e    5.0\n",
      "f    6.0\n",
      "g    7.0\n",
      "dtype: float64\n"
     ]
    }
   ],
   "source": [
    "\n",
    "## Nan\n",
    "\n",
    "res=Series(data=[1,2,3,4,5,6,7,np.nan], index=[\"a\",\"b\",\"c\",\"d\",\"e\",\"f\",\"g\",\"h\"])\n",
    "\n",
    "print(res)\n",
    "print(res.dropna())"
   ]
  },
  {
   "cell_type": "markdown",
   "metadata": {},
   "source": [
    "<h1>Panda X Numpy </h1>"
   ]
  },
  {
   "cell_type": "code",
   "execution_count": 24,
   "metadata": {},
   "outputs": [
    {
     "name": "stdout",
     "output_type": "stream",
     "text": [
      "[[ 17.93020121  94.52059195 320.2595296 ]\n",
      " [ 97.14469719  69.59328198 404.63447153]\n",
      " [ 81.77590078   5.7376481  181.48510774]\n",
      " [ 55.85434242  70.32590168 321.77363802]\n",
      " [ 49.36654999  75.11404016 322.46548558]\n",
      " [  3.19270247  29.25629886  94.6188109 ]\n",
      " [ 49.20078406  86.14443851 356.34809275]\n",
      " [ 21.8828039   46.8415052  181.65376923]\n",
      " [ 79.50986272  87.39735554 423.55774319]\n",
      " [ 88.1538875   65.20564193 369.22924544]]\n"
     ]
    }
   ],
   "source": [
    "mat = dataCSV.as_matrix()\n",
    "print(mat[0:10,0:10])\n"
   ]
  },
  {
   "cell_type": "code",
   "execution_count": 25,
   "metadata": {
    "scrolled": true
   },
   "outputs": [
    {
     "name": "stdout",
     "output_type": "stream",
     "text": [
      "0     17.930201\n",
      "1     97.144697\n",
      "2     81.775901\n",
      "3     55.854342\n",
      "4     49.366550\n",
      "5      3.192702\n",
      "6     49.200784\n",
      "7     21.882804\n",
      "8     79.509863\n",
      "9     88.153887\n",
      "10    60.743854\n",
      "11    67.415582\n",
      "12    48.318116\n",
      "13    28.829972\n",
      "14    43.853743\n",
      "15    25.313694\n",
      "16    10.807727\n",
      "17    98.365746\n",
      "18    29.146910\n",
      "19    65.100302\n",
      "20    24.644113\n",
      "21    37.559805\n",
      "22    88.164506\n",
      "23    13.834621\n",
      "24    64.410844\n",
      "25    68.925992\n",
      "26    39.488442\n",
      "27    52.463178\n",
      "28    48.484787\n",
      "29     8.062088\n",
      "        ...    \n",
      "70    30.187692\n",
      "71    11.788418\n",
      "72    18.292424\n",
      "73    96.712668\n",
      "74    31.012739\n",
      "75    11.397261\n",
      "76    17.392556\n",
      "77    72.182694\n",
      "78    73.980021\n",
      "79    94.493058\n",
      "80    84.562821\n",
      "81    51.742474\n",
      "82    53.748590\n",
      "83    85.050835\n",
      "84    46.777250\n",
      "85    49.758434\n",
      "86    24.119257\n",
      "87    27.201576\n",
      "88     7.009596\n",
      "89    97.646950\n",
      "90     1.382983\n",
      "91    22.323530\n",
      "92    45.045406\n",
      "93    40.163991\n",
      "94    53.182740\n",
      "95    46.456779\n",
      "96    77.130301\n",
      "97    68.600608\n",
      "98    41.693887\n",
      "99     4.142669\n",
      "Name: 0, Length: 100, dtype: float64 [ 17.93020121  94.52059195 320.2595296 ]\n"
     ]
    }
   ],
   "source": [
    "# np x[0] -> oth row\n",
    "# pd x[0] -> col that has the name '0' or the first col\n",
    "print(dataCSV[0],mat[0])"
   ]
  },
  {
   "cell_type": "markdown",
   "metadata": {},
   "source": [
    "<h1>Functions with pandas /  map / apply</h1>\n",
    "\n",
    "<p>\n",
    "# interaction = []</p>\n",
    "<p>\n",
    "# for idx, row in df.iterrows():</p>\n",
    "<p>\n",
    "#     x1x2 =row['x1'] * row ['x2']</p>\n",
    "<p>\n",
    "#     interaction.append(x1x2)</p>\n",
    "<p>\n",
    "# df['x1x2'] = interaction\n",
    "</p>\n",
    "<p> is same as: df['x1x2']= df.apply(lambda row : row['x1']*row['x2'],axis = 1)</p>"
   ]
  },
  {
   "cell_type": "code",
   "execution_count": 26,
   "metadata": {},
   "outputs": [
    {
     "name": "stdout",
     "output_type": "stream",
     "text": [
      "           0          1           2\n",
      "0  17.930201  94.520592  320.259530\n",
      "1  97.144697  69.593282  404.634472\n",
      "2  81.775901   5.737648  181.485108\n",
      "3  55.854342  70.325902  321.773638\n",
      "4  49.366550  75.114040  322.465486\n",
      "            0          1           2\n",
      "0   35.860402  94.520592  320.259530\n",
      "1  194.289394  69.593282  404.634472\n",
      "2  163.551802   5.737648  181.485108\n",
      "3  111.708685  70.325902  321.773638\n",
      "4   98.733100  75.114040  322.465486\n"
     ]
    }
   ],
   "source": [
    "\n",
    "print(dataCSV.head())\n",
    "dataCSVNew = dataCSV\n",
    "dataCSVNew[0]= dataCSV.apply(lambda num :num *2 ,axis = 1)\n",
    "print(dataCSV.head())\n"
   ]
  },
  {
   "cell_type": "markdown",
   "metadata": {},
   "source": [
    "<h1>combine / join / merge</h1>\n"
   ]
  },
  {
   "cell_type": "code",
   "execution_count": 27,
   "metadata": {},
   "outputs": [
    {
     "name": "stdout",
     "output_type": "stream",
     "text": [
      "            0        1_x         2_x        1_y         2_y\n",
      "0   35.860402  94.520592  320.259530  94.520592  320.259530\n",
      "1  194.289394  69.593282  404.634472  69.593282  404.634472\n",
      "2  163.551802   5.737648  181.485108   5.737648  181.485108\n",
      "3  111.708685  70.325902  321.773638  70.325902  321.773638\n",
      "4   98.733100  75.114040  322.465486  75.114040  322.465486\n",
      "\n",
      "            0          1           2\n",
      "0   35.860402  94.520592  320.259530\n",
      "1  194.289394  69.593282  404.634472\n",
      "2  163.551802   5.737648  181.485108\n",
      "3  111.708685  70.325902  321.773638\n",
      "4   98.733100  75.114040  322.465486\n",
      "\n",
      "            0          1           2\n",
      "0   35.860402  94.520592  320.259530\n",
      "1  194.289394  69.593282  404.634472\n",
      "2  163.551802   5.737648  181.485108\n",
      "3  111.708685  70.325902  321.773638\n",
      "4   98.733100  75.114040  322.465486\n"
     ]
    }
   ],
   "source": [
    "dft = pd.merge(dataCSVNew,dataCSV,on=0)\n",
    "print(dft.head(),dataCSVNew.head(),dataCSV.head(),sep=\"\\n\\n\")\n"
   ]
  }
 ],
 "metadata": {
  "kernelspec": {
   "display_name": "Python 3",
   "language": "python",
   "name": "python3"
  },
  "language_info": {
   "codemirror_mode": {
    "name": "ipython",
    "version": 3
   },
   "file_extension": ".py",
   "mimetype": "text/x-python",
   "name": "python",
   "nbconvert_exporter": "python",
   "pygments_lexer": "ipython3",
   "version": "3.6.4"
  }
 },
 "nbformat": 4,
 "nbformat_minor": 2
}
