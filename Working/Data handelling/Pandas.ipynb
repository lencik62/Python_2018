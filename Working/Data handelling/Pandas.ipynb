{
 "cells": [
  {
   "cell_type": "code",
   "execution_count": 79,
   "metadata": {},
   "outputs": [],
   "source": [
    "from pandas import DataFrame\n",
    "from pandas import Series\n",
    "import numpy as np"
   ]
  },
  {
   "cell_type": "markdown",
   "metadata": {},
   "source": [
    "<h1>Loading Data</h1>"
   ]
  },
  {
   "cell_type": "code",
   "execution_count": 86,
   "metadata": {},
   "outputs": [],
   "source": [
    "# import pandas\n",
    "\n",
    "# path=\"\"\n",
    "data= pandas.read_csv(\"data_2d.csv\")\n",
    "data= pandas.read_json(\"CssOutput.json\")\n",
    "# data= pandas.read_excel(path)"
   ]
  },
  {
   "cell_type": "markdown",
   "metadata": {},
   "source": [
    "<h1>DataFrame</h1>"
   ]
  },
  {
   "cell_type": "code",
   "execution_count": 59,
   "metadata": {},
   "outputs": [
    {
     "name": "stdout",
     "output_type": "stream",
     "text": [
      "   Age     Name  Salary\n",
      "0   34      Rob    1000\n",
      "1   28    Bucky    5000\n",
      "2   23  Onizuka       2\n"
     ]
    }
   ],
   "source": [
    "spacer=\"\\n-----------------------------\\n\"\n",
    "data={\"Name\":[\"Rob\",\"Bucky\",\"Onizuka\"]\n",
    ",\"Age\":[34,28,23]\n",
    ",\"Salary\":[1000,5000,2]}\n",
    "\n",
    "data=DataFrame(data)\n",
    "print(data)\n"
   ]
  },
  {
   "cell_type": "code",
   "execution_count": 60,
   "metadata": {},
   "outputs": [
    {
     "name": "stdout",
     "output_type": "stream",
     "text": [
      "\n",
      "-----------------------------\n",
      "    Salary     Name  Age\n",
      "0    1000      Rob   34\n",
      "1    5000    Bucky   28\n",
      "2       2  Onizuka   23\n",
      "\n",
      "-----------------------------\n",
      "    Salary     Name  Nationailty  Age\n",
      "0    1000      Rob          NaN   34\n",
      "1    5000    Bucky          NaN   28\n",
      "2       2  Onizuka          NaN   23\n"
     ]
    }
   ],
   "source": [
    "# data\n",
    "\n",
    "\n",
    "New_frame=DataFrame(data=data, columns=[\"Salary\",\"Name\",\"Age\"])\n",
    "print(spacer,New_frame)\n",
    "New_frame=DataFrame(data=data, columns=[\"Salary\",\"Name\",\"Nationailty\",\"Age\"])\n",
    "print(spacer,New_frame)\n"
   ]
  },
  {
   "cell_type": "code",
   "execution_count": 61,
   "metadata": {},
   "outputs": [
    {
     "name": "stdout",
     "output_type": "stream",
     "text": [
      "\n",
      "-----------------------------\n",
      " 0    1000\n",
      "1    5000\n",
      "2       2\n",
      "Name: Salary, dtype: int64\n",
      "\n",
      "-----------------------------\n",
      " Salary               2\n",
      "Name           Onizuka\n",
      "Nationailty        NaN\n",
      "Age                 23\n",
      "Name: 2, dtype: object\n"
     ]
    }
   ],
   "source": [
    "#\n",
    "############################################\n",
    "#\n",
    "print(spacer,New_frame[\"Salary\"])\n",
    "print(spacer,New_frame.iloc[2])# ix is refering to x axis\n"
   ]
  },
  {
   "cell_type": "code",
   "execution_count": 62,
   "metadata": {},
   "outputs": [
    {
     "name": "stdout",
     "output_type": "stream",
     "text": [
      "   Salary     Name  Nationailty  Age\n",
      "0    1000      Rob          NaN   34\n",
      "1    5000    Bucky          NaN   28\n",
      "2       2  Onizuka          NaN   23\n",
      "   Salary     Name  Nationailty  Age EDU.LVL.\n",
      "0    1000      Rob          NaN   34       MS\n",
      "1    5000    Bucky          NaN   28       MS\n",
      "2       2  Onizuka          NaN   23       MS\n",
      "                0      1        2\n",
      "Salary       1000   5000        2\n",
      "Name          Rob  Bucky  Onizuka\n",
      "Nationailty   NaN    NaN      NaN\n",
      "Age            34     28       23\n",
      "EDU.LVL.       MS     MS       MS\n",
      "  Salary     Name Nationailty Age EDU.LVL.\n",
      "0   1000      Rob         NaN  34       MS\n",
      "1   5000    Bucky         NaN  28       MS\n",
      "2      2  Onizuka         NaN  23       MS\n"
     ]
    }
   ],
   "source": [
    "print(New_frame)\n",
    "\n",
    "New_frame[\"EDU.LVL.\"]=\"MS\"\n",
    "print(New_frame)\n",
    "### Transposing\n",
    "New_frame=New_frame.T\n",
    "print(New_frame)\n",
    "\n",
    "New_frame=New_frame.T\n",
    "# New_frame.reindex([0,2,1])\n",
    "#\n",
    "# fields=[\"Alpha\",\"Beta\",\"Gamma\"]\n",
    "#\n",
    "# New_frame=New_frame.reindex(columns=fields)\n",
    "# drops a row\n",
    "print(New_frame)\n",
    "\n",
    "New_frame=New_frame.drop([2,0])# a list\n",
    "\n"
   ]
  },
  {
   "cell_type": "code",
   "execution_count": 63,
   "metadata": {},
   "outputs": [
    {
     "name": "stdout",
     "output_type": "stream",
     "text": [
      "  Salary   Name Age EDU.LVL.\n",
      "1   5000  Bucky  28       MS\n"
     ]
    }
   ],
   "source": [
    "# for droping  a col\n",
    "\n",
    "New_frame=New_frame.drop(\"Nationailty\",axis=1)\n",
    "print(New_frame)"
   ]
  },
  {
   "cell_type": "code",
   "execution_count": 64,
   "metadata": {},
   "outputs": [
    {
     "name": "stdout",
     "output_type": "stream",
     "text": [
      "   Humidity  Speed  Temp\n",
      "0       NaN    211    89\n",
      "1       NaN    303    76\n",
      "2       NaN    190    60\n",
      "   Speed  Temp\n",
      "0  10000  1156\n",
      "1  10609   529\n",
      "2  11025  3025\n",
      "   Speed  Temp\n",
      "0    102    36\n",
      "1    105    25\n",
      "2    107    57\n",
      "   Speed  Temp\n",
      "0      1     1\n",
      "1      1     2\n",
      "2      0     1\n",
      "   Humidity                Speed                 Temp\n",
      "0       NaN                    0  4071254063142928384\n",
      "1       NaN  1207163699033777601  2688227151811855479\n",
      "2       NaN  6147008343355840265            503284375\n",
      "   Speed  Temp   0   1   2\n",
      "0    NaN   NaN NaN NaN NaN\n",
      "1    NaN   NaN NaN NaN NaN\n",
      "2    NaN   NaN NaN NaN NaN\n",
      "   Humidity  Speed  Temp\n",
      "0       NaN    100   102\n",
      "1       NaN    103    69\n",
      "2       NaN    105   165\n",
      "   Humidity  Speed  Temp\n",
      "0       NaN    101    37\n",
      "1       NaN    104    26\n",
      "2       NaN    106    58\n",
      "   Humidity  Speed  Temp\n",
      "0        47    112    58\n",
      "1        57    201    56\n",
      "2       101     86     8\n"
     ]
    }
   ],
   "source": [
    "\n",
    "\n",
    "\n",
    "## Arithmetic operations\n",
    "\n",
    "data1=DataFrame({\"Speed\":[100,103,105]\n",
    ",\"Temp\":[34,23,55]\n",
    "})\n",
    "\n",
    "data2=DataFrame({\"Speed\":[111,200,85]\n",
    ",\"Temp\":[55,53,5],\n",
    "\"Humidity\":[45,55,99]\n",
    "})\n",
    "Seris=Series([1,2,3])\n",
    "Seris1=Series([1,2,3],index=[\"Speed\",\"Humidity\",\"Temp\"])\n",
    "\n",
    "\n",
    "print(data1+data2)\n",
    "print(data1**2)\n",
    "print(data1+2)\n",
    "print(data1%3)\n",
    "print(data1**data2)\n",
    "print(Seris*data1)\n",
    "print(Seris1*data1)\n",
    "print(Seris1+data1)\n",
    "print(Seris1+data2)\n"
   ]
  },
  {
   "cell_type": "code",
   "execution_count": 65,
   "metadata": {},
   "outputs": [
    {
     "name": "stdout",
     "output_type": "stream",
     "text": [
      "   Speed  Temp\n",
      "0    100    34\n",
      "1    103    23\n",
      "2    105    55\n",
      "   Speed  Temp\n",
      "1    103    23\n",
      "0    100    34\n",
      "2    105    55\n",
      "   Speed  Temp\n",
      "0    100    34\n",
      "1    103    23\n",
      "2    105    55\n",
      "   Speed  Temp\n",
      "0    100    34\n",
      "1    103    23\n",
      "2    105    55\n"
     ]
    }
   ],
   "source": [
    "\n",
    "##sorting\n",
    "print(data1.sort_index())\n",
    "print(data1.sort_values(\"Temp\"))\n",
    "print(data1.sort_values(by=\"Speed\"))\n",
    "print(data1.sort_index(axis=1))\n"
   ]
  },
  {
   "cell_type": "code",
   "execution_count": 66,
   "metadata": {},
   "outputs": [
    {
     "name": "stdout",
     "output_type": "stream",
     "text": [
      "   Speed  Temp\n",
      "0    100    34\n",
      "1    103    23\n",
      "2    105    55 \n",
      "-----------------------------\n",
      "\n",
      "0    134\n",
      "1    126\n",
      "2    160\n",
      "dtype: int64\n",
      "Humidity     99\n",
      "Speed       200\n",
      "Temp         55\n",
      "dtype: int64\n",
      "Humidity    2\n",
      "Speed       1\n",
      "Temp        0\n",
      "dtype: int64\n"
     ]
    }
   ],
   "source": [
    "\n",
    "# maj math\n",
    "print(data1,spacer)\n",
    "print(data1.sum(axis=1))\n",
    "print(data2.max())\n",
    "print(data2.idxmax())\n"
   ]
  },
  {
   "cell_type": "code",
   "execution_count": 67,
   "metadata": {},
   "outputs": [
    {
     "name": "stdout",
     "output_type": "stream",
     "text": [
      "   Speed  Temp\n",
      "0  100.0  34.0\n",
      "1    NaN   NaN\n",
      "2  105.0  55.0\n",
      "   Speed  Temp\n",
      "0  100.0  34.0\n",
      "2  105.0  55.0\n",
      "   Speed   Temp\n",
      "0  100.0   34.0\n",
      "1  100.0  100.0\n",
      "2  105.0   55.0\n"
     ]
    }
   ],
   "source": [
    "\n",
    "\n",
    "# np.nan droping\n",
    "data1=DataFrame({\"Speed\":[100,np.nan,105]\n",
    ",\"Temp\":[34,np.nan,55]\n",
    "})\n",
    "\n",
    "data2=DataFrame({\"Speed\":[111,200,85]\n",
    ",\"Temp\":[55,53,5],\n",
    "\"Humidity\":[45,55,99]\n",
    "})\n",
    "\n",
    "print(data1)\n",
    "print(data1.dropna())\n",
    "\n",
    "data1=DataFrame({\"Speed\":[100,np.nan,105]\n",
    ",\"Temp\":[34,np.nan,55]\n",
    "})\n",
    "\n",
    "print(data1.fillna(100))"
   ]
  },
  {
   "cell_type": "markdown",
   "metadata": {},
   "source": [
    "<h1>Series</h1>"
   ]
  },
  {
   "cell_type": "code",
   "execution_count": 69,
   "metadata": {},
   "outputs": [],
   "source": [
    "# init\n",
    "from pandas import Series\n",
    "se= Series([1,2,3,4,5,6])\n"
   ]
  },
  {
   "cell_type": "code",
   "execution_count": 72,
   "metadata": {},
   "outputs": [
    {
     "name": "stdout",
     "output_type": "stream",
     "text": [
      "0    1\n",
      "1    2\n",
      "2    3\n",
      "3    4\n",
      "4    5\n",
      "5    6\n",
      "dtype: int64 1 4\n",
      "0    100\n",
      "1    110\n",
      "2    120\n",
      "5    130\n",
      "dtype: int64\n",
      "0    100\n",
      "a    110\n",
      "2    120\n",
      "5    130\n",
      "dtype: int64\n",
      "100\n",
      "110\n"
     ]
    }
   ],
   "source": [
    "print(se,se[0],se[3],)\n",
    "\n",
    "s2=Series([100,110,120,130],index=[0,1,2,5])\n",
    "print(s2)\n",
    "s2=Series([100,110,120,130],index=[0,\"a\",2,5])\n",
    "print(s2,s2[0],s2[\"a\"],sep = \"\\n\")\n"
   ]
  },
  {
   "cell_type": "code",
   "execution_count": 73,
   "metadata": {},
   "outputs": [
    {
     "name": "stdout",
     "output_type": "stream",
     "text": [
      "Albert       81000\n",
      "Bill      83213000\n",
      "Carry         7000\n",
      "Mat           8000\n",
      "dtype: int64\n"
     ]
    }
   ],
   "source": [
    "\n",
    "salaries ={\"Albert\":81000,\"Mat\":8000,\"Bill\":83213000,\"Carry\":7000}\n",
    "\n",
    "NewSalaries=Series(salaries)\n",
    "\n",
    "print(NewSalaries)\n",
    "\n"
   ]
  },
  {
   "cell_type": "code",
   "execution_count": 74,
   "metadata": {},
   "outputs": [
    {
     "name": "stdout",
     "output_type": "stream",
     "text": [
      "a    100\n",
      "b    200\n",
      "c    300\n",
      "d    400\n",
      "e    500\n",
      "f    600\n",
      "dtype: int64\n",
      "f    600\n",
      "a    100\n",
      "b    200\n",
      "c    300\n",
      "d    400\n",
      "e    500\n",
      "dtype: int64\n"
     ]
    }
   ],
   "source": [
    "S= Series(data=[100,200,300,400,500,600], index=[\"a\",\"b\",\"c\",\"d\",\"e\",\"f\"])\n",
    "print(S)\n",
    "\n",
    "S=S.reindex([\"f\",\"a\",\"b\",\"c\",\"d\",\"e\"])\n",
    "print(S)\n"
   ]
  },
  {
   "cell_type": "code",
   "execution_count": 76,
   "metadata": {},
   "outputs": [
    {
     "name": "stdout",
     "output_type": "stream",
     "text": [
      "0     2\n",
      "1     4\n",
      "2     6\n",
      "3     8\n",
      "4    10\n",
      "5    12\n",
      "6    14\n",
      "dtype: int64\n",
      "0     3.0\n",
      "1     5.0\n",
      "2     7.0\n",
      "3     9.0\n",
      "4    11.0\n",
      "5    13.0\n",
      "6     NaN\n",
      "dtype: float64\n",
      "0     1\n",
      "1     4\n",
      "2     9\n",
      "3    16\n",
      "4    25\n",
      "5    36\n",
      "6    49\n",
      "dtype: int64\n",
      "0     1\n",
      "1     4\n",
      "2     9\n",
      "3    16\n",
      "4    25\n",
      "5    36\n",
      "6    49\n",
      "dtype: int64\n",
      "0     2\n",
      "1     4\n",
      "2     6\n",
      "3     8\n",
      "4    10\n",
      "5    12\n",
      "6    14\n",
      "dtype: int64\n",
      "0   -1\n",
      "1    0\n",
      "2    1\n",
      "3    2\n",
      "4    3\n",
      "5    4\n",
      "6    5\n",
      "dtype: int64\n",
      "0    1\n",
      "1    2\n",
      "2    0\n",
      "3    1\n",
      "4    2\n",
      "5    0\n",
      "6    1\n",
      "dtype: int64\n"
     ]
    }
   ],
   "source": [
    "\n",
    "sAlpha=Series(data=[1,2,3,4,5,6,7])\n",
    "sBeta=Series(data=[2,3,4,5,6,7])\n",
    "\n",
    "print(sAlpha+sAlpha)\n",
    "print(sBeta+sAlpha)\n",
    "print(sAlpha*sAlpha)\n",
    "print(sAlpha**2)\n",
    "print(sAlpha*2)\n",
    "print(sAlpha-2)\n",
    "print(sAlpha%3)"
   ]
  },
  {
   "cell_type": "code",
   "execution_count": 75,
   "metadata": {},
   "outputs": [
    {
     "name": "stdout",
     "output_type": "stream",
     "text": [
      "1      3\n",
      "5      4\n",
      "9     59\n",
      "87     8\n",
      "6      7\n",
      "5     55\n",
      "4      6\n",
      "2     -2\n",
      "dtype: int64\n",
      "1      3\n",
      "2     -2\n",
      "4      6\n",
      "5      4\n",
      "5     55\n",
      "6      7\n",
      "9     59\n",
      "87     8\n",
      "dtype: int64\n",
      "2     -2\n",
      "1      3\n",
      "5      4\n",
      "4      6\n",
      "6      7\n",
      "87     8\n",
      "5     55\n",
      "9     59\n",
      "dtype: int64\n",
      "False\n",
      "688\n"
     ]
    }
   ],
   "source": [
    "##sorting\n",
    "\n",
    "ser=Series([3,4,59,8,7,55,6,-2],index=[1,5,9,87,6,5,4,2])\n",
    "print(ser)\n",
    "print(ser.sort_index())\n",
    "print(ser.sort_values())\n",
    "\n",
    "Sap=Series(data=[100,110,100,155,100,55,68],index=[\"a\",\"b\",\"c\",\"d\",\"d\",\"e\",\"u\"])\n",
    "\n",
    "print(Sap.index.is_unique)\n",
    "print(Sap.sum())\n"
   ]
  },
  {
   "cell_type": "code",
   "execution_count": 77,
   "metadata": {},
   "outputs": [
    {
     "name": "stdout",
     "output_type": "stream",
     "text": [
      "a    1.0\n",
      "b    2.0\n",
      "c    3.0\n",
      "d    4.0\n",
      "e    5.0\n",
      "f    6.0\n",
      "g    7.0\n",
      "h    NaN\n",
      "dtype: float64\n",
      "a    1.0\n",
      "b    2.0\n",
      "c    3.0\n",
      "d    4.0\n",
      "e    5.0\n",
      "f    6.0\n",
      "g    7.0\n",
      "dtype: float64\n"
     ]
    }
   ],
   "source": [
    "\n",
    "## Nan\n",
    "\n",
    "res=Series(data=[1,2,3,4,5,6,7,np.nan], index=[\"a\",\"b\",\"c\",\"d\",\"e\",\"f\",\"g\",\"h\"])\n",
    "\n",
    "print(res)\n",
    "print(res.dropna())"
   ]
  }
 ],
 "metadata": {
  "kernelspec": {
   "display_name": "Python 3",
   "language": "python",
   "name": "python3"
  },
  "language_info": {
   "codemirror_mode": {
    "name": "ipython",
    "version": 3
   },
   "file_extension": ".py",
   "mimetype": "text/x-python",
   "name": "python",
   "nbconvert_exporter": "python",
   "pygments_lexer": "ipython3",
   "version": "3.6.4"
  }
 },
 "nbformat": 4,
 "nbformat_minor": 2
}
